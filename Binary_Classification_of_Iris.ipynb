{
  "nbformat": 4,
  "nbformat_minor": 0,
  "metadata": {
    "colab": {
      "provenance": [],
      "authorship_tag": "ABX9TyPLOWyIQSYyIO2sPHaHU5Z1",
      "include_colab_link": true
    },
    "kernelspec": {
      "name": "python3",
      "display_name": "Python 3"
    },
    "language_info": {
      "name": "python"
    }
  },
  "cells": [
    {
      "cell_type": "markdown",
      "metadata": {
        "id": "view-in-github",
        "colab_type": "text"
      },
      "source": [
        "<a href=\"https://colab.research.google.com/github/jigjid/github_task/blob/main/Binary_Classification_of_Iris.ipynb\" target=\"_parent\"><img src=\"https://colab.research.google.com/assets/colab-badge.svg\" alt=\"Open In Colab\"/></a>"
      ]
    },
    {
      "cell_type": "markdown",
      "source": [
        "[Assignment 1] Select features and categories for practice\n"
      ],
      "metadata": {
        "id": "KOgu8ajqzEh9"
      }
    },
    {
      "cell_type": "code",
      "source": [
        "from sklearn.datasets import load_iris\n",
        "import pandas as pd\n",
        "iris = load_iris()\n",
        "data, target = iris.data[50:150, 1:3], iris.target[50:150]\n",
        "data"
      ],
      "metadata": {
        "colab": {
          "base_uri": "https://localhost:8080/"
        },
        "id": "-FzsWpDZzHgF",
        "outputId": "8d98239b-6e8a-40f6-ea3a-890a7630196f"
      },
      "execution_count": 1,
      "outputs": [
        {
          "output_type": "execute_result",
          "data": {
            "text/plain": [
              "array([[3.2, 4.7],\n",
              "       [3.2, 4.5],\n",
              "       [3.1, 4.9],\n",
              "       [2.3, 4. ],\n",
              "       [2.8, 4.6],\n",
              "       [2.8, 4.5],\n",
              "       [3.3, 4.7],\n",
              "       [2.4, 3.3],\n",
              "       [2.9, 4.6],\n",
              "       [2.7, 3.9],\n",
              "       [2. , 3.5],\n",
              "       [3. , 4.2],\n",
              "       [2.2, 4. ],\n",
              "       [2.9, 4.7],\n",
              "       [2.9, 3.6],\n",
              "       [3.1, 4.4],\n",
              "       [3. , 4.5],\n",
              "       [2.7, 4.1],\n",
              "       [2.2, 4.5],\n",
              "       [2.5, 3.9],\n",
              "       [3.2, 4.8],\n",
              "       [2.8, 4. ],\n",
              "       [2.5, 4.9],\n",
              "       [2.8, 4.7],\n",
              "       [2.9, 4.3],\n",
              "       [3. , 4.4],\n",
              "       [2.8, 4.8],\n",
              "       [3. , 5. ],\n",
              "       [2.9, 4.5],\n",
              "       [2.6, 3.5],\n",
              "       [2.4, 3.8],\n",
              "       [2.4, 3.7],\n",
              "       [2.7, 3.9],\n",
              "       [2.7, 5.1],\n",
              "       [3. , 4.5],\n",
              "       [3.4, 4.5],\n",
              "       [3.1, 4.7],\n",
              "       [2.3, 4.4],\n",
              "       [3. , 4.1],\n",
              "       [2.5, 4. ],\n",
              "       [2.6, 4.4],\n",
              "       [3. , 4.6],\n",
              "       [2.6, 4. ],\n",
              "       [2.3, 3.3],\n",
              "       [2.7, 4.2],\n",
              "       [3. , 4.2],\n",
              "       [2.9, 4.2],\n",
              "       [2.9, 4.3],\n",
              "       [2.5, 3. ],\n",
              "       [2.8, 4.1],\n",
              "       [3.3, 6. ],\n",
              "       [2.7, 5.1],\n",
              "       [3. , 5.9],\n",
              "       [2.9, 5.6],\n",
              "       [3. , 5.8],\n",
              "       [3. , 6.6],\n",
              "       [2.5, 4.5],\n",
              "       [2.9, 6.3],\n",
              "       [2.5, 5.8],\n",
              "       [3.6, 6.1],\n",
              "       [3.2, 5.1],\n",
              "       [2.7, 5.3],\n",
              "       [3. , 5.5],\n",
              "       [2.5, 5. ],\n",
              "       [2.8, 5.1],\n",
              "       [3.2, 5.3],\n",
              "       [3. , 5.5],\n",
              "       [3.8, 6.7],\n",
              "       [2.6, 6.9],\n",
              "       [2.2, 5. ],\n",
              "       [3.2, 5.7],\n",
              "       [2.8, 4.9],\n",
              "       [2.8, 6.7],\n",
              "       [2.7, 4.9],\n",
              "       [3.3, 5.7],\n",
              "       [3.2, 6. ],\n",
              "       [2.8, 4.8],\n",
              "       [3. , 4.9],\n",
              "       [2.8, 5.6],\n",
              "       [3. , 5.8],\n",
              "       [2.8, 6.1],\n",
              "       [3.8, 6.4],\n",
              "       [2.8, 5.6],\n",
              "       [2.8, 5.1],\n",
              "       [2.6, 5.6],\n",
              "       [3. , 6.1],\n",
              "       [3.4, 5.6],\n",
              "       [3.1, 5.5],\n",
              "       [3. , 4.8],\n",
              "       [3.1, 5.4],\n",
              "       [3.1, 5.6],\n",
              "       [3.1, 5.1],\n",
              "       [2.7, 5.1],\n",
              "       [3.2, 5.9],\n",
              "       [3.3, 5.7],\n",
              "       [3. , 5.2],\n",
              "       [2.5, 5. ],\n",
              "       [3. , 5.2],\n",
              "       [3.4, 5.4],\n",
              "       [3. , 5.1]])"
            ]
          },
          "metadata": {},
          "execution_count": 1
        }
      ]
    },
    {
      "cell_type": "code",
      "source": [
        "import matplotlib.pyplot as plt\n",
        "fig, ax = plt.subplots()\n",
        "ax.scatter(data[:, 0], data[:, 1])\n",
        "ax.set_xlabel('sepal width (cm)')\n",
        "ax.set_ylabel('petal width (cm)')\n",
        "plt.show()"
      ],
      "metadata": {
        "colab": {
          "base_uri": "https://localhost:8080/",
          "height": 449
        },
        "id": "sVFCfyTuzt8s",
        "outputId": "adae8122-2c34-4bce-a2a3-2af31fbe5e65"
      },
      "execution_count": 2,
      "outputs": [
        {
          "output_type": "display_data",
          "data": {
            "text/plain": [
              "<Figure size 640x480 with 1 Axes>"
            ],
            "image/png": "[encoded data removed]"
          },
          "metadata": {}
        }
      ]
    },
    {
      "cell_type": "markdown",
      "source": [
        "[Question 2] Data analysis"
      ],
      "metadata": {
        "id": "1sZXGL5P0FuA"
      }
    },
    {
      "cell_type": "code",
      "source": [
        "fig, ax = plt.subplots()\n",
        "ax.scatter(data[:, 0], data[:, 1])\n",
        "ax.set_xlabel('sepal width (cm)')\n",
        "ax.set_ylabel('petal width (cm)')\n",
        "plt.show()"
      ],
      "metadata": {
        "colab": {
          "base_uri": "https://localhost:8080/",
          "height": 449
        },
        "id": "NM-19FKt0Bos",
        "outputId": "3aab6f39-7a91-4a88-aef4-68aeaf6192ef"
      },
      "execution_count": 3,
      "outputs": [
        {
          "output_type": "display_data",
          "data": {
            "text/plain": [
              "<Figure size 640x480 with 1 Axes>"
            ],
            "image/png": "[encoded data removed]"
          },
          "metadata": {}
        }
      ]
    },
    {
      "cell_type": "code",
      "source": [
        "plt.boxplot(data, notch=None, vert=None, patch_artist=None, widths=None)"
      ],
      "metadata": {
        "colab": {
          "base_uri": "https://localhost:8080/",
          "height": 690
        },
        "id": "g97U-AIu0Iqu",
        "outputId": "682d3005-b147-479b-95ad-215ee85ddcf4"
      },
      "execution_count": 5,
      "outputs": [
        {
          "output_type": "execute_result",
          "data": {
            "text/plain": [
              "{'whiskers': [<matplotlib.lines.Line2D at 0x7f9951501670>,\n",
              "  <matplotlib.lines.Line2D at 0x7f9951501910>,\n",
              "  <matplotlib.lines.Line2D at 0x7f9951497910>,\n",
              "  <matplotlib.lines.Line2D at 0x7f9951497bb0>],\n",
              " 'caps': [<matplotlib.lines.Line2D at 0x7f9951501bb0>,\n",
              "  <matplotlib.lines.Line2D at 0x7f9951501e50>,\n",
              "  <matplotlib.lines.Line2D at 0x7f9951497e50>,\n",
              "  <matplotlib.lines.Line2D at 0x7f99514a8130>],\n",
              " 'boxes': [<matplotlib.lines.Line2D at 0x7f99515013d0>,\n",
              "  <matplotlib.lines.Line2D at 0x7f9951497670>],\n",
              " 'medians': [<matplotlib.lines.Line2D at 0x7f9951497130>,\n",
              "  <matplotlib.lines.Line2D at 0x7f99514a83d0>],\n",
              " 'fliers': [<matplotlib.lines.Line2D at 0x7f99514973d0>,\n",
              "  <matplotlib.lines.Line2D at 0x7f99514a8670>],\n",
              " 'means': []}"
            ]
          },
          "metadata": {},
          "execution_count": 5
        },
        {
          "output_type": "display_data",
          "data": {
            "text/plain": [
              "<Figure size 640x480 with 1 Axes>"
            ],
            "image/png": "[encoded data removed]"
          },
          "metadata": {}
        }
      ]
    },
    {
      "cell_type": "code",
      "source": [
        "import seaborn as sns\n",
        "sns.violinplot(data)"
      ],
      "metadata": {
        "colab": {
          "base_uri": "https://localhost:8080/",
          "height": 447
        },
        "id": "X7TSkSWL0Z8X",
        "outputId": "02de9669-831f-4f79-a42c-c90ad8b3f493"
      },
      "execution_count": 6,
      "outputs": [
        {
          "output_type": "execute_result",
          "data": {
            "text/plain": [
              "<Axes: >"
            ]
          },
          "metadata": {},
          "execution_count": 6
        },
        {
          "output_type": "display_data",
          "data": {
            "text/plain": [
              "<Figure size 640x480 with 1 Axes>"
            ],
            "image/png": "[encoded data removed]"
          },
          "metadata": {}
        }
      ]
    },
    {
      "cell_type": "markdown",
      "source": [
        "[Problem 3] Division of preprocessing/training data and validation data"
      ],
      "metadata": {
        "id": "w4DqsUA23a6J"
      }
    },
    {
      "cell_type": "code",
      "source": [
        "print(type(data))"
      ],
      "metadata": {
        "colab": {
          "base_uri": "https://localhost:8080/"
        },
        "id": "qJ04EnxZ0r9L",
        "outputId": "a0c7611a-e0a0-428d-88bf-a8d4325cfff7"
      },
      "execution_count": 7,
      "outputs": [
        {
          "output_type": "stream",
          "name": "stdout",
          "text": [
            "<class 'numpy.ndarray'>\n"
          ]
        }
      ]
    },
    {
      "cell_type": "code",
      "source": [
        "from sklearn.model_selection import train_test_split\n",
        "data_train, data_test, target_train, target_test = train_test_split(data, target, random_state=123, test_size=0.25)"
      ],
      "metadata": {
        "id": "dKC2Hg7F3dh3"
      },
      "execution_count": 8,
      "outputs": []
    },
    {
      "cell_type": "code",
      "source": [
        "\n",
        "print(data_train.shape)"
      ],
      "metadata": {
        "colab": {
          "base_uri": "https://localhost:8080/"
        },
        "id": "y4NuAAlp3hD7",
        "outputId": "9063f84c-78d2-4117-e125-de40de5d5f7a"
      },
      "execution_count": 9,
      "outputs": [
        {
          "output_type": "stream",
          "name": "stdout",
          "text": [
            "(75, 2)\n"
          ]
        }
      ]
    },
    {
      "cell_type": "markdown",
      "source": [
        "[Problem 4] Preprocessing and standardization"
      ],
      "metadata": {
        "id": "xGvUOi5X3rD6"
      }
    },
    {
      "cell_type": "code",
      "source": [
        "from sklearn.preprocessing import StandardScaler\n",
        "scaler = StandardScaler()\n",
        "scaler.fit_transform(data)"
      ],
      "metadata": {
        "colab": {
          "base_uri": "https://localhost:8080/"
        },
        "id": "Mgoc6usp3lO2",
        "outputId": "c042ebcf-4d23-4b66-8fcd-2b6fc3e3b761"
      },
      "execution_count": 10,
      "outputs": [
        {
          "output_type": "execute_result",
          "data": {
            "text/plain": [
              "array([[ 0.99068792, -0.25077906],\n",
              "       [ 0.99068792, -0.49425387],\n",
              "       [ 0.68864892, -0.00730424],\n",
              "       [-1.72766308, -1.10294091],\n",
              "       [-0.21746808, -0.37251647],\n",
              "       [-0.21746808, -0.49425387],\n",
              "       [ 1.29272692, -0.25077906],\n",
              "       [-1.42562408, -1.95510276],\n",
              "       [ 0.08457092, -0.37251647],\n",
              "       [-0.51950708, -1.22467832],\n",
              "       [-2.63378009, -1.71162795],\n",
              "       [ 0.38660992, -0.8594661 ],\n",
              "       [-2.02970209, -1.10294091],\n",
              "       [ 0.08457092, -0.25077906],\n",
              "       [ 0.08457092, -1.58989054],\n",
              "       [ 0.68864892, -0.61599128],\n",
              "       [ 0.38660992, -0.49425387],\n",
              "       [-0.51950708, -0.9812035 ],\n",
              "       [-2.02970209, -0.49425387],\n",
              "       [-1.12358508, -1.22467832],\n",
              "       [ 0.99068792, -0.12904165],\n",
              "       [-0.21746808, -1.10294091],\n",
              "       [-1.12358508, -0.00730424],\n",
              "       [-0.21746808, -0.25077906],\n",
              "       [ 0.08457092, -0.73772869],\n",
              "       [ 0.38660992, -0.61599128],\n",
              "       [-0.21746808, -0.12904165],\n",
              "       [ 0.38660992,  0.11443316],\n",
              "       [ 0.08457092, -0.49425387],\n",
              "       [-0.82154608, -1.71162795],\n",
              "       [-1.42562408, -1.34641572],\n",
              "       [-1.42562408, -1.46815313],\n",
              "       [-0.51950708, -1.22467832],\n",
              "       [-0.51950708,  0.23617057],\n",
              "       [ 0.38660992, -0.49425387],\n",
              "       [ 1.59476592, -0.49425387],\n",
              "       [ 0.68864892, -0.25077906],\n",
              "       [-1.72766308, -0.61599128],\n",
              "       [ 0.38660992, -0.9812035 ],\n",
              "       [-1.12358508, -1.10294091],\n",
              "       [-0.82154608, -0.61599128],\n",
              "       [ 0.38660992, -0.37251647],\n",
              "       [-0.82154608, -1.10294091],\n",
              "       [-1.72766308, -1.95510276],\n",
              "       [-0.51950708, -0.8594661 ],\n",
              "       [ 0.38660992, -0.8594661 ],\n",
              "       [ 0.08457092, -0.8594661 ],\n",
              "       [ 0.08457092, -0.73772869],\n",
              "       [-1.12358508, -2.32031498],\n",
              "       [-0.21746808, -0.9812035 ],\n",
              "       [ 1.29272692,  1.33180724],\n",
              "       [-0.51950708,  0.23617057],\n",
              "       [ 0.38660992,  1.21006983],\n",
              "       [ 0.08457092,  0.84485761],\n",
              "       [ 0.38660992,  1.08833242],\n",
              "       [ 0.38660992,  2.06223168],\n",
              "       [-1.12358508, -0.49425387],\n",
              "       [ 0.08457092,  1.69701946],\n",
              "       [-1.12358508,  1.08833242],\n",
              "       [ 2.19884393,  1.45354464],\n",
              "       [ 0.99068792,  0.23617057],\n",
              "       [-0.51950708,  0.47964538],\n",
              "       [ 0.38660992,  0.7231202 ],\n",
              "       [-1.12358508,  0.11443316],\n",
              "       [-0.21746808,  0.23617057],\n",
              "       [ 0.99068792,  0.47964538],\n",
              "       [ 0.38660992,  0.7231202 ],\n",
              "       [ 2.80292193,  2.18396909],\n",
              "       [-0.82154608,  2.4274439 ],\n",
              "       [-2.02970209,  0.11443316],\n",
              "       [ 0.99068792,  0.96659501],\n",
              "       [-0.21746808, -0.00730424],\n",
              "       [-0.21746808,  2.18396909],\n",
              "       [-0.51950708, -0.00730424],\n",
              "       [ 1.29272692,  0.96659501],\n",
              "       [ 0.99068792,  1.33180724],\n",
              "       [-0.21746808, -0.12904165],\n",
              "       [ 0.38660992, -0.00730424],\n",
              "       [-0.21746808,  0.84485761],\n",
              "       [ 0.38660992,  1.08833242],\n",
              "       [-0.21746808,  1.45354464],\n",
              "       [ 2.80292193,  1.81875686],\n",
              "       [-0.21746808,  0.84485761],\n",
              "       [-0.21746808,  0.23617057],\n",
              "       [-0.82154608,  0.84485761],\n",
              "       [ 0.38660992,  1.45354464],\n",
              "       [ 1.59476592,  0.84485761],\n",
              "       [ 0.68864892,  0.7231202 ],\n",
              "       [ 0.38660992, -0.12904165],\n",
              "       [ 0.68864892,  0.60138279],\n",
              "       [ 0.68864892,  0.84485761],\n",
              "       [ 0.68864892,  0.23617057],\n",
              "       [-0.51950708,  0.23617057],\n",
              "       [ 0.99068792,  1.21006983],\n",
              "       [ 1.29272692,  0.96659501],\n",
              "       [ 0.38660992,  0.35790798],\n",
              "       [-1.12358508,  0.11443316],\n",
              "       [ 0.38660992,  0.35790798],\n",
              "       [ 1.59476592,  0.60138279],\n",
              "       [ 0.38660992,  0.23617057]])"
            ]
          },
          "metadata": {},
          "execution_count": 10
        }
      ]
    },
    {
      "cell_type": "markdown",
      "source": [
        "[Question 5] Learning and Estimation"
      ],
      "metadata": {
        "id": "Zoc9wvln3yWL"
      }
    },
    {
      "cell_type": "code",
      "source": [
        "\n",
        "from sklearn.neighbors import KNeighborsClassifier\n",
        "neigh = KNeighborsClassifier(n_neighbors=1)\n",
        "neigh.fit(data_train, target_train)"
      ],
      "metadata": {
        "colab": {
          "base_uri": "https://localhost:8080/",
          "height": 75
        },
        "id": "QOFc85Wr3uI9",
        "outputId": "1a649536-b6ce-404c-939f-758a1940296f"
      },
      "execution_count": 11,
      "outputs": [
        {
          "output_type": "execute_result",
          "data": {
            "text/plain": [
              "KNeighborsClassifier(n_neighbors=1)"
            ],
            "text/html": [
              "<style>#sk-container-id-1 {color: black;background-color: white;}#sk-container-id-1 pre{padding: 0;}#sk-container-id-1 div.sk-toggleable {background-color: white;}#sk-container-id-1 label.sk-toggleable__label {cursor: pointer;display: block;width: 100%;margin-bottom: 0;padding: 0.3em;box-sizing: border-box;text-align: center;}#sk-container-id-1 label.sk-toggleable__label-arrow:before {content: \"▸\";float: left;margin-right: 0.25em;color: #696969;}#sk-container-id-1 label.sk-toggleable__label-arrow:hover:before {color: black;}#sk-container-id-1 div.sk-estimator:hover label.sk-toggleable__label-arrow:before {color: black;}#sk-container-id-1 div.sk-toggleable__content {max-height: 0;max-width: 0;overflow: hidden;text-align: left;background-color: #f0f8ff;}#sk-container-id-1 div.sk-toggleable__content pre {margin: 0.2em;color: black;border-radius: 0.25em;background-color: #f0f8ff;}#sk-container-id-1 input.sk-toggleable__control:checked~div.sk-toggleable__content {max-height: 200px;max-width: 100%;overflow: auto;}#sk-container-id-1 input.sk-toggleable__control:checked~label.sk-toggleable__label-arrow:before {content: \"▾\";}#sk-container-id-1 div.sk-estimator input.sk-toggleable__control:checked~label.sk-toggleable__label {background-color: #d4ebff;}#sk-container-id-1 div.sk-label input.sk-toggleable__control:checked~label.sk-toggleable__label {background-color: #d4ebff;}#sk-container-id-1 input.sk-hidden--visually {border: 0;clip: rect(1px 1px 1px 1px);clip: rect(1px, 1px, 1px, 1px);height: 1px;margin: -1px;overflow: hidden;padding: 0;position: absolute;width: 1px;}#sk-container-id-1 div.sk-estimator {font-family: monospace;background-color: #f0f8ff;border: 1px dotted black;border-radius: 0.25em;box-sizing: border-box;margin-bottom: 0.5em;}#sk-container-id-1 div.sk-estimator:hover {background-color: #d4ebff;}#sk-container-id-1 div.sk-parallel-item::after {content: \"\";width: 100%;border-bottom: 1px solid gray;flex-grow: 1;}#sk-container-id-1 div.sk-label:hover label.sk-toggleable__label {background-color: #d4ebff;}#sk-container-id-1 div.sk-serial::before {content: \"\";position: absolute;border-left: 1px solid gray;box-sizing: border-box;top: 0;bottom: 0;left: 50%;z-index: 0;}#sk-container-id-1 div.sk-serial {display: flex;flex-direction: column;align-items: center;background-color: white;padding-right: 0.2em;padding-left: 0.2em;position: relative;}#sk-container-id-1 div.sk-item {position: relative;z-index: 1;}#sk-container-id-1 div.sk-parallel {display: flex;align-items: stretch;justify-content: center;background-color: white;position: relative;}#sk-container-id-1 div.sk-item::before, #sk-container-id-1 div.sk-parallel-item::before {content: \"\";position: absolute;border-left: 1px solid gray;box-sizing: border-box;top: 0;bottom: 0;left: 50%;z-index: -1;}#sk-container-id-1 div.sk-parallel-item {display: flex;flex-direction: column;z-index: 1;position: relative;background-color: white;}#sk-container-id-1 div.sk-parallel-item:first-child::after {align-self: flex-end;width: 50%;}#sk-container-id-1 div.sk-parallel-item:last-child::after {align-self: flex-start;width: 50%;}#sk-container-id-1 div.sk-parallel-item:only-child::after {width: 0;}#sk-container-id-1 div.sk-dashed-wrapped {border: 1px dashed gray;margin: 0 0.4em 0.5em 0.4em;box-sizing: border-box;padding-bottom: 0.4em;background-color: white;}#sk-container-id-1 div.sk-label label {font-family: monospace;font-weight: bold;display: inline-block;line-height: 1.2em;}#sk-container-id-1 div.sk-label-container {text-align: center;}#sk-container-id-1 div.sk-container {/* jupyter's `normalize.less` sets `[hidden] { display: none; }` but bootstrap.min.css set `[hidden] { display: none !important; }` so we also need the `!important` here to be able to override the default hidden behavior on the sphinx rendered scikit-learn.org. See: https://github.com/scikit-learn/scikit-learn/issues/21755 */display: inline-block !important;position: relative;}#sk-container-id-1 div.sk-text-repr-fallback {display: none;}</style><div id=\"sk-container-id-1\" class=\"sk-top-container\"><div class=\"sk-text-repr-fallback\"><pre>KNeighborsClassifier(n_neighbors=1)</pre><b>In a Jupyter environment, please rerun this cell to show the HTML representation or trust the notebook. <br />On GitHub, the HTML representation is unable to render, please try loading this page with nbviewer.org.</b></div><div class=\"sk-container\" hidden><div class=\"sk-item\"><div class=\"sk-estimator sk-toggleable\"><input class=\"sk-toggleable__control sk-hidden--visually\" id=\"sk-estimator-id-1\" type=\"checkbox\" checked><label for=\"sk-estimator-id-1\" class=\"sk-toggleable__label sk-toggleable__label-arrow\">KNeighborsClassifier</label><div class=\"sk-toggleable__content\"><pre>KNeighborsClassifier(n_neighbors=1)</pre></div></div></div></div></div>"
            ]
          },
          "metadata": {},
          "execution_count": 11
        }
      ]
    },
    {
      "cell_type": "code",
      "source": [
        "\n",
        "target_pred = neigh.predict(data_test)\n",
        "target_pred"
      ],
      "metadata": {
        "colab": {
          "base_uri": "https://localhost:8080/"
        },
        "id": "E-JB4SzU37-q",
        "outputId": "2d5aa39f-ecbb-4881-dbb7-aa85ee751dd3"
      },
      "execution_count": 12,
      "outputs": [
        {
          "output_type": "execute_result",
          "data": {
            "text/plain": [
              "array([1, 2, 2, 1, 2, 1, 1, 2, 2, 1, 1, 2, 1, 2, 1, 1, 1, 1, 1, 2, 1, 1,\n",
              "       1, 1, 1])"
            ]
          },
          "metadata": {},
          "execution_count": 12
        }
      ]
    },
    {
      "cell_type": "code",
      "source": [
        "target_test"
      ],
      "metadata": {
        "colab": {
          "base_uri": "https://localhost:8080/"
        },
        "id": "L4it3NyV4Rq1",
        "outputId": "744446ec-5b0e-40b6-ab35-03123c22b344"
      },
      "execution_count": 13,
      "outputs": [
        {
          "output_type": "execute_result",
          "data": {
            "text/plain": [
              "array([1, 2, 2, 1, 2, 1, 1, 2, 2, 1, 1, 2, 2, 2, 1, 1, 2, 1, 2, 2, 1, 2,\n",
              "       1, 1, 1])"
            ]
          },
          "metadata": {},
          "execution_count": 13
        }
      ]
    },
    {
      "cell_type": "markdown",
      "source": [
        "[Question 6] Evaluation"
      ],
      "metadata": {
        "id": "ghVIwv7v4Y50"
      }
    },
    {
      "cell_type": "code",
      "source": [
        "from sklearn.metrics import classification_report\n",
        "print(classification_report(target_test, target_pred))"
      ],
      "metadata": {
        "colab": {
          "base_uri": "https://localhost:8080/"
        },
        "id": "Du5tMc8j4VzV",
        "outputId": "506b5402-ac7d-41d1-d527-94a0b84062a5"
      },
      "execution_count": 14,
      "outputs": [
        {
          "output_type": "stream",
          "name": "stdout",
          "text": [
            "              precision    recall  f1-score   support\n",
            "\n",
            "           1       0.76      1.00      0.87        13\n",
            "           2       1.00      0.67      0.80        12\n",
            "\n",
            "    accuracy                           0.84        25\n",
            "   macro avg       0.88      0.83      0.83        25\n",
            "weighted avg       0.88      0.84      0.83        25\n",
            "\n"
          ]
        }
      ]
    },
    {
      "cell_type": "code",
      "source": [
        "from sklearn.metrics import accuracy_score\n",
        "accuracy_score(target_test, target_pred)"
      ],
      "metadata": {
        "colab": {
          "base_uri": "https://localhost:8080/"
        },
        "id": "fnnV8D2547id",
        "outputId": "2ffdf337-74bd-47cc-fab7-9b021f7a77ff"
      },
      "execution_count": 15,
      "outputs": [
        {
          "output_type": "execute_result",
          "data": {
            "text/plain": [
              "0.84"
            ]
          },
          "metadata": {},
          "execution_count": 15
        }
      ]
    },
    {
      "cell_type": "code",
      "source": [
        "\n",
        "from sklearn.metrics import precision_score\n",
        "precision_score(target_test, target_pred)\n",
        "     "
      ],
      "metadata": {
        "colab": {
          "base_uri": "https://localhost:8080/"
        },
        "id": "P1W52g_F4_Vg",
        "outputId": "8e707c1a-bf26-4ce9-9760-aae67998b30c"
      },
      "execution_count": 16,
      "outputs": [
        {
          "output_type": "execute_result",
          "data": {
            "text/plain": [
              "0.7647058823529411"
            ]
          },
          "metadata": {},
          "execution_count": 16
        }
      ]
    },
    {
      "cell_type": "code",
      "source": [
        "\n",
        "from sklearn.metrics import precision_score\n",
        "precision_score(target_test, target_pred)\n",
        "     "
      ],
      "metadata": {
        "colab": {
          "base_uri": "https://localhost:8080/"
        },
        "id": "vMtC8EsO5A55",
        "outputId": "c3957fea-719a-4950-bcfa-43398b6f94b1"
      },
      "execution_count": 17,
      "outputs": [
        {
          "output_type": "execute_result",
          "data": {
            "text/plain": [
              "0.7647058823529411"
            ]
          },
          "metadata": {},
          "execution_count": 17
        }
      ]
    },
    {
      "cell_type": "code",
      "source": [
        "\n",
        "from sklearn.metrics import f1_score\n",
        "f1_score(target_test, target_pred)"
      ],
      "metadata": {
        "colab": {
          "base_uri": "https://localhost:8080/"
        },
        "id": "NKp36DtQ5CS2",
        "outputId": "43b44dc4-6c13-44c1-f00f-ac8b30f7b7e5"
      },
      "execution_count": 18,
      "outputs": [
        {
          "output_type": "execute_result",
          "data": {
            "text/plain": [
              "0.8666666666666666"
            ]
          },
          "metadata": {},
          "execution_count": 18
        }
      ]
    },
    {
      "cell_type": "code",
      "source": [
        "\n",
        "from sklearn.metrics import confusion_matrix\n",
        "confusion_matrix(target_test, target_pred)"
      ],
      "metadata": {
        "colab": {
          "base_uri": "https://localhost:8080/"
        },
        "id": "QNhHdwXv5EEu",
        "outputId": "d6c541e3-9a1d-41a4-ccc7-7d3819cf7323"
      },
      "execution_count": 19,
      "outputs": [
        {
          "output_type": "execute_result",
          "data": {
            "text/plain": [
              "array([[13,  0],\n",
              "       [ 4,  8]])"
            ]
          },
          "metadata": {},
          "execution_count": 19
        }
      ]
    },
    {
      "cell_type": "markdown",
      "source": [
        "\n",
        "[Question 7] Visualization"
      ],
      "metadata": {
        "id": "RiROPBYj5Ih8"
      }
    },
    {
      "cell_type": "code",
      "source": [
        "import numpy as np\n",
        "import matplotlib.pyplot as plt\n",
        "from matplotlib.colors import ListedColormap\n",
        "import matplotlib.patches as mpatches\n",
        "\n",
        "def decision_region(X, y, model, step=0.01, title='decision region', xlabel='sepal_lenght', ylabel='petal_lenght', target_names=['versicolor', 'virginica']):\n",
        "    \"\"\"\n",
        "    2値分類を2次元の特徴量で学習したモデルの決定領域を描く。\n",
        "    背景の色が学習したモデルによる推定値から描画される。\n",
        "    散布図の点は訓練データまたは検証データである。\n",
        "\n",
        "    Parameters\n",
        "    ----------------\n",
        "    X : ndarray, shape(n_samples, 2)\n",
        "        特徴量\n",
        "    y : ndarray, shape(n_samples,)\n",
        "        ラベル\n",
        "    model : object\n",
        "        学習したモデルのインスンタスを入れる\n",
        "    step : float, (default : 0.1)\n",
        "        推定値を計算する間隔を設定する\n",
        "    title : str\n",
        "        グラフのタイトルの文章を与える\n",
        "    xlabel, ylabel : str\n",
        "        軸ラベルの文章を与える\n",
        "    target_names= : list of str\n",
        "        凡例の一覧を与える\n",
        "    \"\"\"\n",
        "    # setting\n",
        "    scatter_color = ['red', 'blue']\n",
        "    contourf_color = ['pink', 'skyblue']\n",
        "    n_class = 2\n",
        "\n",
        "    # pred\n",
        "    mesh_f0, mesh_f1  = np.meshgrid(np.arange(np.min(X[:,0])-0.5, np.max(X[:,0])+0.5, step), np.arange(np.min(X[:,1])-0.5, np.max(X[:,1])+0.5, step))\n",
        "    mesh = np.c_[np.ravel(mesh_f0),np.ravel(mesh_f1)]\n",
        "    y_pred = model.predict(mesh).reshape(mesh_f0.shape)\n",
        "\n",
        "    # plot\n",
        "    plt.title(title)\n",
        "    plt.xlabel(xlabel)\n",
        "    plt.ylabel(ylabel)\n",
        "    plt.contourf(mesh_f0, mesh_f1, y_pred, n_class-1, cmap=ListedColormap(contourf_color))\n",
        "    plt.contour(mesh_f0, mesh_f1, y_pred, n_class-1, colors='y', linewidths=3, alpha=0.5)\n",
        "    for i, target in enumerate(np.unique(y)):\n",
        "        plt.scatter(X[y==target][:, 0], X[y==target][:, 1], s=80, color=scatter_color[i], label=target_names[i], marker='o')\n",
        "    patches = [mpatches.Patch(color=scatter_color[i], label=target_names[i]) for i in range(n_class)]\n",
        "    plt.legend(handles=patches)\n",
        "    plt.legend()\n",
        "    plt.show()"
      ],
      "metadata": {
        "id": "rmVjBVUK5GKB"
      },
      "execution_count": 20,
      "outputs": []
    },
    {
      "cell_type": "code",
      "source": [
        "\n",
        "\n",
        "decision_region(X = data, y = target, model=neigh)\n"
      ],
      "metadata": {
        "colab": {
          "base_uri": "https://localhost:8080/",
          "height": 472
        },
        "id": "hKICu0lV5XRL",
        "outputId": "1c6895cd-4cd5-417b-94bf-5d0acc5ca27a"
      },
      "execution_count": 21,
      "outputs": [
        {
          "output_type": "display_data",
          "data": {
            "text/plain": [
              "<Figure size 640x480 with 1 Axes>"
            ],
            "image/png": "[encoded data removed]"
          },
          "metadata": {}
        }
      ]
    },
    {
      "cell_type": "markdown",
      "source": [
        "[Question 8] Learning other methods"
      ],
      "metadata": {
        "id": "DekLLgV75fJ-"
      }
    },
    {
      "cell_type": "code",
      "source": [
        "from sklearn.metrics import classification_report\n",
        "print(classification_report(target_test, target_pred))\n",
        "     "
      ],
      "metadata": {
        "colab": {
          "base_uri": "https://localhost:8080/"
        },
        "id": "parzkBtx5c_P",
        "outputId": "0d7fa38e-17a3-406b-f4c6-12d7e969f8da"
      },
      "execution_count": 22,
      "outputs": [
        {
          "output_type": "stream",
          "name": "stdout",
          "text": [
            "              precision    recall  f1-score   support\n",
            "\n",
            "           1       0.76      1.00      0.87        13\n",
            "           2       1.00      0.67      0.80        12\n",
            "\n",
            "    accuracy                           0.84        25\n",
            "   macro avg       0.88      0.83      0.83        25\n",
            "weighted avg       0.88      0.84      0.83        25\n",
            "\n"
          ]
        }
      ]
    },
    {
      "cell_type": "code",
      "source": [
        "from sklearn.linear_model import LogisticRegression\n",
        "clf = LogisticRegression(random_state=0).fit(data_train, target_train)\n",
        "clf.predict(data_test)"
      ],
      "metadata": {
        "colab": {
          "base_uri": "https://localhost:8080/"
        },
        "id": "QG_kBpiC5qLU",
        "outputId": "8f4db163-a026-4fa2-b269-eda6c2713d60"
      },
      "execution_count": 23,
      "outputs": [
        {
          "output_type": "execute_result",
          "data": {
            "text/plain": [
              "array([1, 2, 2, 1, 2, 1, 1, 2, 2, 1, 1, 2, 1, 2, 1, 1, 1, 1, 1, 2, 1, 1,\n",
              "       1, 1, 1])"
            ]
          },
          "metadata": {},
          "execution_count": 23
        }
      ]
    },
    {
      "cell_type": "code",
      "source": [
        "\n",
        "print(classification_report(target_test, clf.predict(data_test)))"
      ],
      "metadata": {
        "colab": {
          "base_uri": "https://localhost:8080/"
        },
        "id": "kmeeGptR5tZ0",
        "outputId": "f6440537-a184-455c-c7d5-198082fab3ba"
      },
      "execution_count": 24,
      "outputs": [
        {
          "output_type": "stream",
          "name": "stdout",
          "text": [
            "              precision    recall  f1-score   support\n",
            "\n",
            "           1       0.76      1.00      0.87        13\n",
            "           2       1.00      0.67      0.80        12\n",
            "\n",
            "    accuracy                           0.84        25\n",
            "   macro avg       0.88      0.83      0.83        25\n",
            "weighted avg       0.88      0.84      0.83        25\n",
            "\n"
          ]
        }
      ]
    },
    {
      "cell_type": "code",
      "source": [
        "from sklearn.svm import SVC\n",
        "from sklearn.pipeline import make_pipeline\n",
        "svm = make_pipeline(StandardScaler(), SVC(gamma='auto'))\n",
        "svm.fit(data_train, target_train)\n",
        "svm.predict(data_test)"
      ],
      "metadata": {
        "colab": {
          "base_uri": "https://localhost:8080/"
        },
        "id": "UkKbfHsX5v5W",
        "outputId": "05add918-5c3c-468a-fbf4-bc59dde280ba"
      },
      "execution_count": 25,
      "outputs": [
        {
          "output_type": "execute_result",
          "data": {
            "text/plain": [
              "array([1, 2, 2, 1, 2, 1, 1, 2, 2, 1, 1, 2, 2, 2, 1, 1, 1, 1, 1, 2, 1, 1,\n",
              "       1, 1, 1])"
            ]
          },
          "metadata": {},
          "execution_count": 25
        }
      ]
    },
    {
      "cell_type": "code",
      "source": [
        "\n",
        "print(classification_report(target_test, svm.predict(data_test)))"
      ],
      "metadata": {
        "colab": {
          "base_uri": "https://localhost:8080/"
        },
        "id": "_N34FIsE5xfj",
        "outputId": "f03dfa41-0951-40be-ad41-ff2db4599b41"
      },
      "execution_count": 26,
      "outputs": [
        {
          "output_type": "stream",
          "name": "stdout",
          "text": [
            "              precision    recall  f1-score   support\n",
            "\n",
            "           1       0.81      1.00      0.90        13\n",
            "           2       1.00      0.75      0.86        12\n",
            "\n",
            "    accuracy                           0.88        25\n",
            "   macro avg       0.91      0.88      0.88        25\n",
            "weighted avg       0.90      0.88      0.88        25\n",
            "\n"
          ]
        }
      ]
    },
    {
      "cell_type": "code",
      "source": [
        "from sklearn.tree import DecisionTreeClassifier\n",
        "tree = DecisionTreeClassifier(max_depth=3)\n",
        "tree.fit(data_train, target_train)\n",
        "tree.predict(data_test)"
      ],
      "metadata": {
        "colab": {
          "base_uri": "https://localhost:8080/"
        },
        "id": "V9f9whpu5z-M",
        "outputId": "b4f18ab0-7d13-4dc6-aebc-11bfbecd595c"
      },
      "execution_count": 27,
      "outputs": [
        {
          "output_type": "execute_result",
          "data": {
            "text/plain": [
              "array([1, 2, 2, 1, 2, 1, 1, 2, 2, 1, 1, 2, 1, 2, 1, 1, 1, 1, 1, 2, 1, 1,\n",
              "       1, 1, 1])"
            ]
          },
          "metadata": {},
          "execution_count": 27
        }
      ]
    },
    {
      "cell_type": "code",
      "source": [
        "\n",
        "print(classification_report(target_test, tree.predict(data_test)))"
      ],
      "metadata": {
        "colab": {
          "base_uri": "https://localhost:8080/"
        },
        "id": "_l0zeSad53Vw",
        "outputId": "0b548fa5-7a03-407c-f3ba-e7505a1eb8e7"
      },
      "execution_count": 28,
      "outputs": [
        {
          "output_type": "stream",
          "name": "stdout",
          "text": [
            "              precision    recall  f1-score   support\n",
            "\n",
            "           1       0.76      1.00      0.87        13\n",
            "           2       1.00      0.67      0.80        12\n",
            "\n",
            "    accuracy                           0.84        25\n",
            "   macro avg       0.88      0.83      0.83        25\n",
            "weighted avg       0.88      0.84      0.83        25\n",
            "\n"
          ]
        }
      ]
    },
    {
      "cell_type": "code",
      "source": [
        "\n",
        "from sklearn.ensemble import RandomForestClassifier\n",
        "forest = RandomForestClassifier(n_estimators=100, random_state=123)\n",
        "forest.fit(data_train, target_train)\n",
        "forest.predict(data_test)"
      ],
      "metadata": {
        "colab": {
          "base_uri": "https://localhost:8080/"
        },
        "id": "X7Gd6BT555MZ",
        "outputId": "5c16c7ae-891b-4e63-c348-56c2e625eb11"
      },
      "execution_count": 29,
      "outputs": [
        {
          "output_type": "execute_result",
          "data": {
            "text/plain": [
              "array([1, 2, 2, 1, 2, 1, 1, 2, 2, 1, 1, 2, 1, 2, 1, 1, 1, 1, 1, 2, 1, 1,\n",
              "       1, 1, 1])"
            ]
          },
          "metadata": {},
          "execution_count": 29
        }
      ]
    },
    {
      "cell_type": "code",
      "source": [
        "print(classification_report(target_test, forest.predict(data_test)))\n",
        "     "
      ],
      "metadata": {
        "colab": {
          "base_uri": "https://localhost:8080/"
        },
        "id": "MbRsyy6q59v8",
        "outputId": "48383b47-7c41-4bb0-c566-8e66727f3d23"
      },
      "execution_count": 30,
      "outputs": [
        {
          "output_type": "stream",
          "name": "stdout",
          "text": [
            "              precision    recall  f1-score   support\n",
            "\n",
            "           1       0.76      1.00      0.87        13\n",
            "           2       1.00      0.67      0.80        12\n",
            "\n",
            "    accuracy                           0.84        25\n",
            "   macro avg       0.88      0.83      0.83        25\n",
            "weighted avg       0.88      0.84      0.83        25\n",
            "\n"
          ]
        }
      ]
    },
    {
      "cell_type": "code",
      "source": [],
      "metadata": {
        "id": "7aEh8J825_SK"
      },
      "execution_count": null,
      "outputs": []
    }
  ]
}