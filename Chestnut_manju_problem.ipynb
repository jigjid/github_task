{
  "nbformat": 4,
  "nbformat_minor": 0,
  "metadata": {
    "colab": {
      "provenance": [],
      "authorship_tag": "ABX9TyPvIQhcEzrR+ANDl6rJQ+Sz",
      "include_colab_link": true
    },
    "kernelspec": {
      "name": "python3",
      "display_name": "Python 3"
    },
    "language_info": {
      "name": "python"
    }
  },
  "cells": [
    {
      "cell_type": "markdown",
      "metadata": {
        "id": "view-in-github",
        "colab_type": "text"
      },
      "source": [
        "<a href=\"https://colab.research.google.com/github/jigjid/github_task/blob/main/Chestnut_manju_problem.ipynb\" target=\"_parent\"><img src=\"https://colab.research.google.com/assets/colab-badge.svg\" alt=\"Open In Colab\"/></a>"
      ]
    },
    {
      "cell_type": "markdown",
      "source": [
        "[Problem] The day when chestnut buns cover the solar system\n",
        "\n"
      ],
      "metadata": {
        "id": "1zqBY8-eByXU"
      }
    },
    {
      "cell_type": "code",
      "execution_count": 14,
      "metadata": {
        "id": "wKDPOw3uY66Z",
        "colab": {
          "base_uri": "https://localhost:8080/"
        },
        "outputId": "2e80bf2d-0eb1-4ec2-8e92-b2370ffa2207"
      },
      "outputs": [
        {
          "output_type": "stream",
          "name": "stdout",
          "text": [
            "585 minuts later chestnut buns will cover solar system\n"
          ]
        }
      ],
      "source": [
        "import matplotlib.pyplot as plt\n",
        "def min_time(volume_solar):  #volume_solar_system=2*pow(10,30)/m^3\n",
        "  vol_chestnut = 0.000014  #volume of chestnut buns = 140m^3\n",
        "  A = 1\n",
        "  time = 0\n",
        "  while A > 0:\n",
        "    vol_chestnut = vol_chestnut*2\n",
        "    A = volume_solar - vol_chestnut\n",
        "    time = time + 5\n",
        "  return time\n",
        "min_time = min_time(2*pow(10,30))\n",
        "print(\"{} minuts later chestnut buns will cover solar system\".format(min_time))\n",
        "\n",
        "     "
      ]
    },
    {
      "cell_type": "code",
      "source": [
        "import matplotlib.pyplot as plt\n",
        "def min_time(Tokyo_Dome):  \n",
        "  vol_chestnut = 0.000014  #volume of chestnut buns = 140m^3\n",
        "  A = 1\n",
        "  time = 0\n",
        "  while A > 0:\n",
        "    vol_chestnut = vol_chestnut*2\n",
        "    A = Tokyo_Dome - vol_chestnut\n",
        "    time = time + 5\n",
        "  return time\n",
        "Tokyo_Dome = 1240000  #volume of Tokyo Dome\n",
        "min_Dome = min_time(Tokyo_Dome)\n",
        "print(\"{} minuts later chestnut buns will cover Tokyo Dome\".format(min_Dome))"
      ],
      "metadata": {
        "colab": {
          "base_uri": "https://localhost:8080/"
        },
        "id": "Lng-faBJE3QC",
        "outputId": "b94b2976-7c3e-4b15-e9ab-9d88f73c943b"
      },
      "execution_count": 2,
      "outputs": [
        {
          "output_type": "stream",
          "name": "stdout",
          "text": [
            "185 minuts later chestnut buns will cover Tokyo Dome\n"
          ]
        }
      ]
    },
    {
      "cell_type": "code",
      "source": [],
      "metadata": {
        "id": "4JKV3cv8FVQm"
      },
      "execution_count": null,
      "outputs": []
    }
  ]
}