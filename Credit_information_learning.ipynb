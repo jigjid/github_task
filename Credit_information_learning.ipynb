{
  "nbformat": 4,
  "nbformat_minor": 0,
  "metadata": {
    "colab": {
      "provenance": [],
      "include_colab_link": true
    },
    "kernelspec": {
      "name": "python3",
      "display_name": "Python 3"
    },
    "language_info": {
      "name": "python"
    }
  },
  "cells": [
    {
      "cell_type": "markdown",
      "metadata": {
        "id": "view-in-github",
        "colab_type": "text"
      },
      "source": [
        "<a href=\"https://colab.research.google.com/github/jigjid/github_task/blob/main/Credit_information_learning.ipynb\" target=\"_parent\"><img src=\"https://colab.research.google.com/assets/colab-badge.svg\" alt=\"Open In Colab\"/></a>"
      ]
    },
    {
      "cell_type": "markdown",
      "source": [
        "#**Preprocessing**"
      ],
      "metadata": {
        "id": "fWK1v5UtyyiV"
      }
    },
    {
      "cell_type": "code",
      "source": [
        "import numpy as np \n",
        "import pandas as pd\n",
        "import matplotlib.pyplot as plt\n",
        "from sklearn.model_selection import train_test_split\n",
        "from sklearn.preprocessing import StandardScaler, LabelEncoder\n",
        "from sklearn.metrics import accuracy_score, f1_score, roc_auc_score\n",
        "from sklearn.linear_model import LogisticRegression\n",
        "from sklearn.impute import SimpleImputer\n",
        "\n",
        "def Encoder(df):\n",
        "    columnsToEncode = list(df.select_dtypes(include=['category','object']))\n",
        "    le = LabelEncoder()\n",
        "    for feature in columnsToEncode:\n",
        "        try:\n",
        "            df[feature] = le.fit_transform(df[feature])\n",
        "        except:\n",
        "            print('Error encoding '+feature)\n",
        "    return df"
      ],
      "metadata": {
        "id": "cpw3kMk7y3nF"
      },
      "execution_count": null,
      "outputs": []
    },
    {
      "cell_type": "markdown",
      "source": [
        "#**Credit Information**\n",
        "**Problem 1:** Confirmation of competition details.\n",
        "\n",
        "- What do we learn and what do we predict?\n",
        "\n",
        "    Many people struggle to get loans due to insufficient or non-existent credit histories. But writing an algorithm to accurately calculate that we are a reliable borrower by researching and predict on loan repayment.\n",
        "\n",
        "\n",
        "- What kind of file to create and submit to Kaggle\n",
        "\n",
        "    For each SK_ID_CURR in the test set, you must predict a probability for the TARGET variable. The file should contain a header and have the following format:\n",
        "    \n",
        "    ```\n",
        "      SK_ID_CURR,TARGET\n",
        "\n",
        "      100001,0.1\n",
        "      \n",
        "      100005,0.9\n",
        "      \n",
        "      100013,0.2\n",
        "      \n",
        "      etc.\n",
        "    ```\n",
        "\n",
        "  \n",
        "- What kind of index value will be used to evaluate the submitted items?\n",
        "\n",
        "    Probability"
      ],
      "metadata": {
        "id": "rd6P1BNr7EcY"
      }
    },
    {
      "cell_type": "markdown",
      "source": [
        "#**Create a Baseline Model**\n",
        "\n",
        "**Problem 2:** Learning and Verification."
      ],
      "metadata": {
        "id": "Ocot2hJh7-gY"
      }
    },
    {
      "cell_type": "code",
      "source": [
        "app_train = pd.read_csv('application_train.csv')\n",
        "app_test = pd.read_csv('application_test.csv')\n",
        "\n",
        "print(\"Number of samples {} and feature {} in application_train.\".format(len(app_train),len(app_train.columns)))\n",
        "print(\"Number of samples {} and feature {} in application_test.\".format(len(app_test),len(app_test.columns)))\n",
        "print(app_test.columns)\n",
        "\n",
        "app_train.dropna(axis = 1, how='any', inplace=True)\n",
        "y_train = app_train['TARGET']\n",
        "app_train = app_train.drop(\"TARGET\", axis=1)\n",
        "\n",
        "app_test = app_test[app_train.columns]\n",
        "print(app_train.head(10))\n",
        "\n",
        "app_train = Encoder(app_train)\n",
        "app_test = Encoder(app_test)\n",
        "\n",
        "scaler = StandardScaler()\n",
        "scaler.fit(app_train)\n",
        "X_train = scaler.transform(app_train)\n",
        "X_test = scaler.transform(app_test)\n",
        "\n",
        "x_tr, x_val, y_tr, y_val = train_test_split(X_train, y_train, random_state=123)\n",
        "\n",
        "lr = LogisticRegression(C=0.0001)\n",
        "lr.fit(x_tr, y_tr)"
      ],
      "metadata": {
        "colab": {
          "base_uri": "https://localhost:8080/"
        },
        "id": "6mGfjwtQzK9X",
        "outputId": "d583d665-6ebb-4e1d-8509-b12f7ae090d2"
      },
      "execution_count": null,
      "outputs": [
        {
          "output_type": "stream",
          "name": "stdout",
          "text": [
            "Number of samples 218121 and feature 122 in application_train.\n",
            "Number of samples 23376 and feature 121 in application_test.\n",
            "Index(['SK_ID_CURR', 'NAME_CONTRACT_TYPE', 'CODE_GENDER', 'FLAG_OWN_CAR',\n",
            "       'FLAG_OWN_REALTY', 'CNT_CHILDREN', 'AMT_INCOME_TOTAL', 'AMT_CREDIT',\n",
            "       'AMT_ANNUITY', 'AMT_GOODS_PRICE',\n",
            "       ...\n",
            "       'FLAG_DOCUMENT_18', 'FLAG_DOCUMENT_19', 'FLAG_DOCUMENT_20',\n",
            "       'FLAG_DOCUMENT_21', 'AMT_REQ_CREDIT_BUREAU_HOUR',\n",
            "       'AMT_REQ_CREDIT_BUREAU_DAY', 'AMT_REQ_CREDIT_BUREAU_WEEK',\n",
            "       'AMT_REQ_CREDIT_BUREAU_MON', 'AMT_REQ_CREDIT_BUREAU_QRT',\n",
            "       'AMT_REQ_CREDIT_BUREAU_YEAR'],\n",
            "      dtype='object', length=121)\n",
            "   SK_ID_CURR NAME_CONTRACT_TYPE CODE_GENDER FLAG_OWN_CAR FLAG_OWN_REALTY  \\\n",
            "0      100002         Cash loans           M            N               Y   \n",
            "1      100003         Cash loans           F            N               N   \n",
            "2      100004    Revolving loans           M            Y               Y   \n",
            "3      100006         Cash loans           F            N               Y   \n",
            "4      100007         Cash loans           M            N               Y   \n",
            "5      100008         Cash loans           M            N               Y   \n",
            "6      100009         Cash loans           F            Y               Y   \n",
            "7      100010         Cash loans           M            Y               Y   \n",
            "8      100011         Cash loans           F            N               Y   \n",
            "9      100012    Revolving loans           M            N               Y   \n",
            "\n",
            "   CNT_CHILDREN  AMT_INCOME_TOTAL  AMT_CREDIT      NAME_INCOME_TYPE  \\\n",
            "0             0          202500.0    406597.5               Working   \n",
            "1             0          270000.0   1293502.5         State servant   \n",
            "2             0           67500.0    135000.0               Working   \n",
            "3             0          135000.0    312682.5               Working   \n",
            "4             0          121500.0    513000.0               Working   \n",
            "5             0           99000.0    490495.5         State servant   \n",
            "6             1          171000.0   1560726.0  Commercial associate   \n",
            "7             0          360000.0   1530000.0         State servant   \n",
            "8             0          112500.0   1019610.0             Pensioner   \n",
            "9             0          135000.0    405000.0               Working   \n",
            "\n",
            "             NAME_EDUCATION_TYPE    NAME_FAMILY_STATUS  NAME_HOUSING_TYPE  \n",
            "0  Secondary / secondary special  Single / not married  House / apartment  \n",
            "1               Higher education               Married  House / apartment  \n",
            "2  Secondary / secondary special  Single / not married  House / apartment  \n",
            "3  Secondary / secondary special        Civil marriage  House / apartment  \n",
            "4  Secondary / secondary special  Single / not married  House / apartment  \n",
            "5  Secondary / secondary special               Married  House / apartment  \n",
            "6               Higher education               Married  House / apartment  \n",
            "7               Higher education               Married  House / apartment  \n",
            "8  Secondary / secondary special               Married  House / apartment  \n",
            "9  Secondary / secondary special  Single / not married  House / apartment  \n"
          ]
        },
        {
          "output_type": "execute_result",
          "data": {
            "text/plain": [
              "LogisticRegression(C=0.0001)"
            ]
          },
          "metadata": {},
          "execution_count": 29
        }
      ]
    },
    {
      "cell_type": "markdown",
      "source": [
        "**Problem 3:** Estimation for test data."
      ],
      "metadata": {
        "id": "k5JUcwR-8Xw7"
      }
    },
    {
      "cell_type": "code",
      "source": [
        "y_test_pred = lr.predict_proba(x_val)[:, 1]\n",
        "print(\"roc auc score\", roc_auc_score(y_val, y_test_pred))\n",
        "\n",
        "y_test_pred = lr.predict_proba(X_test)[:, 1]\n",
        "data = app_test[[\"SK_ID_CURR\"]]\n",
        "data['TARGET'] = y_test_pred.tolist()\n",
        "data.to_csv('submission.csv', index=False)\n",
        "print(data)\n",
        "\n",
        "print(\"BEST SCORE: 0.64511  V2\")"
      ],
      "metadata": {
        "colab": {
          "base_uri": "https://localhost:8080/"
        },
        "id": "8Fv1z2su6aG3",
        "outputId": "fbe05350-5fe5-4987-fbb1-7937a025d242"
      },
      "execution_count": null,
      "outputs": [
        {
          "output_type": "stream",
          "name": "stdout",
          "text": [
            "roc auc score 0.6050017564581778\n",
            "       SK_ID_CURR    TARGET\n",
            "0          100001  0.063240\n",
            "1          100005  0.104338\n",
            "2          100013  0.069369\n",
            "3          100028  0.077455\n",
            "4          100038  0.091834\n",
            "...           ...       ...\n",
            "23371      269955  0.071629\n",
            "23372      269958  0.082096\n",
            "23373      269960  0.069842\n",
            "23374      269966  0.072206\n",
            "23375      269975  0.059860\n",
            "\n",
            "[23376 rows x 2 columns]\n",
            "BEST SCORE: 0.64511  V2\n"
          ]
        },
        {
          "output_type": "stream",
          "name": "stderr",
          "text": [
            "<ipython-input-30-602a985e68c2>:6: SettingWithCopyWarning: \n",
            "A value is trying to be set on a copy of a slice from a DataFrame.\n",
            "Try using .loc[row_indexer,col_indexer] = value instead\n",
            "\n",
            "See the caveats in the documentation: https://pandas.pydata.org/pandas-docs/stable/user_guide/indexing.html#returning-a-view-versus-a-copy\n",
            "  data['TARGET'] = y_test_pred.tolist()\n"
          ]
        }
      ]
    },
    {
      "cell_type": "markdown",
      "source": [
        "#**Feature Engineering**\n",
        "\n",
        "**Problem 4:** Feature Engineering."
      ],
      "metadata": {
        "id": "qrov56y88kmE"
      }
    },
    {
      "cell_type": "code",
      "source": [
        "application_train = pd.read_csv('application_train.csv')\n",
        "application_test = pd.read_csv('application_test.csv')\n",
        "\n",
        "correlations = application_train.corr()[\"TARGET\"].sort_values()\n",
        "\n",
        "print('Most Positive Correlations:\\n', correlations.tail(15))\n",
        "print('\\nMost Negative Correlations:\\n', correlations.head(15))\n",
        "\n",
        "print('\\nFrom above result, We can see that the most correlated variables are \\\n",
        "DAYS_BIRTH, EXT_SOURCE_3, EXT_SOURCE_2 and EXT_SOURCE_1.\\n')     \n",
        "\n",
        "\n",
        "ext_data = application_train[['TARGET', 'EXT_SOURCE_1', 'EXT_SOURCE_2', 'EXT_SOURCE_3', 'DAYS_BIRTH']]\n",
        "ext_data_corrs = ext_data.corr()\n",
        "print(ext_data_corrs)\n",
        "\n",
        "\n",
        "y_ext = ext_data['TARGET']\n",
        "X_train = ext_data.drop(columns=['TARGET'])\n",
        "X_test = application_test[X_train.columns]\n",
        "\n",
        "print(X_train.columns)\n",
        "\n",
        "imputer = SimpleImputer(strategy=\"median\")\n",
        "X_train = imputer.fit_transform(X_train)\n",
        "X_test = imputer.fit_transform(X_test)\n",
        "\n",
        "scaler = StandardScaler()\n",
        "scaler.fit(X_train)\n",
        "train = scaler.transform(X_train)\n",
        "test = scaler.transform(X_test)\n",
        "\n",
        "\n",
        "x_tr, x_val, y_tr, y_val = train_test_split(train, y_ext, random_state=123)\n",
        "\n",
        "log_reg = LogisticRegression(C=0.0001)\n",
        "log_reg.fit(x_tr, y_tr)\n",
        "\n",
        "log_reg_pred = log_reg.predict_proba(x_val)[:, 1]\n",
        "print(\"roc auc score\", roc_auc_score(y_val, log_reg_pred))\n",
        "\n",
        "y_test_pred = log_reg.predict_proba(X_test)[:, 1]\n",
        "\n",
        "data = application_test[[\"SK_ID_CURR\"]]\n",
        "data['TARGET'] = y_test_pred.tolist()\n",
        "data.to_csv('submission.csv', index=False)\n",
        "print(data)\n",
        "\n",
        "print(\"BEST SCORE: 0.69758  V3\")"
      ],
      "metadata": {
        "colab": {
          "base_uri": "https://localhost:8080/"
        },
        "id": "MY5gN0DV_S02",
        "outputId": "b078d738-a09b-41b8-ecec-2943c86994a3"
      },
      "execution_count": null,
      "outputs": [
        {
          "output_type": "stream",
          "name": "stdout",
          "text": [
            "Most Positive Correlations:\n",
            " LIVE_CITY_NOT_WORK_CITY        0.032112\n",
            "DEF_60_CNT_SOCIAL_CIRCLE       0.032249\n",
            "DEF_30_CNT_SOCIAL_CIRCLE       0.032963\n",
            "OWN_CAR_AGE                    0.041047\n",
            "DAYS_REGISTRATION              0.041197\n",
            "REG_CITY_NOT_LIVE_CITY         0.043131\n",
            "FLAG_DOCUMENT_3                0.044692\n",
            "FLAG_EMP_PHONE                 0.045297\n",
            "REG_CITY_NOT_WORK_CITY         0.050257\n",
            "DAYS_ID_PUBLISH                0.052886\n",
            "DAYS_LAST_PHONE_CHANGE         0.054783\n",
            "REGION_RATING_CLIENT           0.058438\n",
            "REGION_RATING_CLIENT_W_CITY    0.060609\n",
            "DAYS_BIRTH                     0.078254\n",
            "TARGET                         1.000000\n",
            "Name: TARGET, dtype: float64\n",
            "\n",
            "Most Negative Correlations:\n",
            " EXT_SOURCE_3                 -0.177147\n",
            "EXT_SOURCE_2                 -0.160568\n",
            "EXT_SOURCE_1                 -0.154153\n",
            "FLOORSMAX_AVG                -0.046965\n",
            "FLOORSMAX_MEDI               -0.046909\n",
            "FLOORSMAX_MODE               -0.045893\n",
            "DAYS_EMPLOYED                -0.044247\n",
            "AMT_GOODS_PRICE              -0.039332\n",
            "FLOORSMIN_AVG                -0.038262\n",
            "REGION_POPULATION_RELATIVE   -0.038111\n",
            "FLOORSMIN_MEDI               -0.038064\n",
            "FLOORSMIN_MODE               -0.036665\n",
            "ELEVATORS_AVG                -0.036493\n",
            "ELEVATORS_MEDI               -0.036162\n",
            "ELEVATORS_MODE               -0.034112\n",
            "Name: TARGET, dtype: float64\n",
            "\n",
            "From above result, We can see that the most correlated variables are DAYS_BIRTH, EXT_SOURCE_3, EXT_SOURCE_2 and EXT_SOURCE_1.\n",
            "\n",
            "                TARGET  EXT_SOURCE_1  EXT_SOURCE_2  EXT_SOURCE_3  DAYS_BIRTH\n",
            "TARGET        1.000000     -0.154153     -0.160568     -0.177147    0.078254\n",
            "EXT_SOURCE_1 -0.154153      1.000000      0.216674      0.186074   -0.602251\n",
            "EXT_SOURCE_2 -0.160568      0.216674      1.000000      0.109176   -0.094126\n",
            "EXT_SOURCE_3 -0.177147      0.186074      0.109176      1.000000   -0.207317\n",
            "DAYS_BIRTH    0.078254     -0.602251     -0.094126     -0.207317    1.000000\n",
            "Index(['EXT_SOURCE_1', 'EXT_SOURCE_2', 'EXT_SOURCE_3', 'DAYS_BIRTH'], dtype='object')\n",
            "roc auc score 0.716899609699619\n",
            "       SK_ID_CURR  TARGET\n",
            "0          100001     0.0\n",
            "1          100005     0.0\n",
            "2          100013     0.0\n",
            "3          100028     0.0\n",
            "4          100038     0.0\n",
            "...           ...     ...\n",
            "23371      269955     0.0\n",
            "23372      269958     0.0\n",
            "23373      269960     0.0\n",
            "23374      269966     0.0\n",
            "23375      269975     0.0\n",
            "\n",
            "[23376 rows x 2 columns]\n",
            "BEST SCORE: 0.69758  V3\n"
          ]
        },
        {
          "output_type": "stream",
          "name": "stderr",
          "text": [
            "<ipython-input-32-44bbb2d13c28>:45: SettingWithCopyWarning: \n",
            "A value is trying to be set on a copy of a slice from a DataFrame.\n",
            "Try using .loc[row_indexer,col_indexer] = value instead\n",
            "\n",
            "See the caveats in the documentation: https://pandas.pydata.org/pandas-docs/stable/user_guide/indexing.html#returning-a-view-versus-a-copy\n",
            "  data['TARGET'] = y_test_pred.tolist()\n"
          ]
        }
      ]
    }
  ]
}