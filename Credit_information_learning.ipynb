{
  "nbformat": 4,
  "nbformat_minor": 0,
  "metadata": {
    "colab": {
      "provenance": [],
      "authorship_tag": "ABX9TyOdPzqjSeNXQXvloJ4ESid4",
      "include_colab_link": true
    },
    "kernelspec": {
      "name": "python3",
      "display_name": "Python 3"
    },
    "language_info": {
      "name": "python"
    }
  },
  "cells": [
    {
      "cell_type": "markdown",
      "metadata": {
        "id": "view-in-github",
        "colab_type": "text"
      },
      "source": [
        "<a href=\"https://colab.research.google.com/github/jigjid/github_task/blob/main/Credit_information_learning.ipynb\" target=\"_parent\"><img src=\"https://colab.research.google.com/assets/colab-badge.svg\" alt=\"Open In Colab\"/></a>"
      ]
    },
    {
      "cell_type": "markdown",
      "source": [
        "\n",
        "# [Question 1] Confirmation of the content of the competition\n",
        "1.what to learn and what to predict\n",
        "In data science and machine learning, the goal is typically to learn patterns and relationships within a dataset, and then use this knowledge to make predictions on new, unseen data. So, what to learn and what to predict will depend on the specific problem you are trying to solve. For example, if you are working on a classification problem, you will learn to differentiate between different classes in the data, and then predict which class new data points belong to. If you are working on a regression problem, you will learn to predict a numerical value based on the input features.\n",
        "\n",
        "2.What kind of file to create and submit to Kaggle\n",
        "Kaggle is a platform for data science competitions, and typically requires participants to submit a specific kind of file format for their predictions. The specific format will depend on the competition, but often involves submitting a CSV file with predictions for a test dataset. It's important to carefully read the competition rules and instructions to make sure you are submitting the correct file type and format.\n",
        "\n",
        "3.What kind of index value will the submitted work be evaluated by?\n",
        "The evaluation metric for a Kaggle competition will also depend on the specific problem being solved. Typically, the competition organizers will specify a specific evaluation metric that will be used to rank submissions and determine the winner. This could be a classification accuracy metric, mean squared error, or some other metric that is appropriate for the problem at hand. It's important to pay close attention to the evaluation metric, as optimizing for it can be crucial to achieving a high score and ranking well in the competition."
      ],
      "metadata": {
        "id": "SPg3N3xVdwaB"
      }
    },
    {
      "cell_type": "markdown",
      "source": [
        "## [Question 2] Learning and verification"
      ],
      "metadata": {
        "id": "EYxO79LmeZpn"
      }
    },
    {
      "cell_type": "code",
      "source": [
        "import numpy as np\n",
        "import pandas as pd\n",
        "app_train = pd.read_csv('application_train.csv')"
      ],
      "metadata": {
        "id": "GL35pvSZdgMX"
      },
      "execution_count": 21,
      "outputs": []
    },
    {
      "cell_type": "code",
      "execution_count": 22,
      "metadata": {
        "id": "A1VdI1VYdanG"
      },
      "outputs": [],
      "source": [
        "\"\"\n",
        "def learn_ver(X, y):\n",
        "  from sklearn.model_selection import train_test_split\n",
        "  from sklearn.preprocessing import StandardScaler\n",
        "  from sklearn.linear_model import SGDRegressor\n",
        "  from sklearn.metrics import mean_squared_error\n",
        "  X_train, X_test, y_train, y_test = train_test_split(X, y, random_state=123) \n",
        "  scaler = StandardScaler()\n",
        "  scaler.fit(X_train)\n",
        "  X_train_std = scaler.transform(X_train)\n",
        "  X_test_std = scaler.transform(X_test)\n",
        "  reg = SGDRegressor()\n",
        "  reg.fit(X_train_std, y_train)\n",
        "  y_pred = reg.predict(X_test_std)\n",
        "  mse = mean_squared_error(y_test,y_pred)\n",
        "  rmse = np.sqrt(mse)\n",
        "  return  mse, rmse \n",
        "     "
      ]
    },
    {
      "cell_type": "code",
      "source": [
        "train = app_train[['SK_ID_CURR']].values\n",
        "target = app_train[['TARGET']].values\n",
        "learn_ver(X=train, y=target )"
      ],
      "metadata": {
        "colab": {
          "base_uri": "https://localhost:8080/"
        },
        "id": "GzlI9qLwerRm",
        "outputId": "5b489c71-7e17-4649-f675-73fe0822ce29"
      },
      "execution_count": 23,
      "outputs": [
        {
          "output_type": "stream",
          "name": "stderr",
          "text": [
            "/usr/local/lib/python3.9/dist-packages/sklearn/utils/validation.py:1143: DataConversionWarning: A column-vector y was passed when a 1d array was expected. Please change the shape of y to (n_samples, ), for example using ravel().\n",
            "  y = column_or_1d(y, warn=True)\n"
          ]
        },
        {
          "output_type": "execute_result",
          "data": {
            "text/plain": [
              "(0.0759946936752337, 0.27567135084232763)"
            ]
          },
          "metadata": {},
          "execution_count": 23
        }
      ]
    },
    {
      "cell_type": "code",
      "source": [
        "train = app_train[['DAYS_BIRTH']].values\n",
        "learn_ver(X=train, y=target )"
      ],
      "metadata": {
        "colab": {
          "base_uri": "https://localhost:8080/"
        },
        "id": "OtPiz0SzesnN",
        "outputId": "2de27519-4d7a-480a-ca82-daee3cf6f095"
      },
      "execution_count": 24,
      "outputs": [
        {
          "output_type": "stream",
          "name": "stderr",
          "text": [
            "/usr/local/lib/python3.9/dist-packages/sklearn/utils/validation.py:1143: DataConversionWarning: A column-vector y was passed when a 1d array was expected. Please change the shape of y to (n_samples, ), for example using ravel().\n",
            "  y = column_or_1d(y, warn=True)\n"
          ]
        },
        {
          "output_type": "execute_result",
          "data": {
            "text/plain": [
              "(0.07536017701450481, 0.27451808139811995)"
            ]
          },
          "metadata": {},
          "execution_count": 24
        }
      ]
    },
    {
      "cell_type": "code",
      "source": [
        "\n",
        "train = app_train[['REGION_RATING_CLIENT']].values\n",
        "learn_ver(X=train, y=target )"
      ],
      "metadata": {
        "colab": {
          "base_uri": "https://localhost:8080/"
        },
        "id": "6cRdlLVDet2G",
        "outputId": "df5399f3-db38-431f-81c4-2f6d3f4037dd"
      },
      "execution_count": 25,
      "outputs": [
        {
          "output_type": "stream",
          "name": "stderr",
          "text": [
            "/usr/local/lib/python3.9/dist-packages/sklearn/utils/validation.py:1143: DataConversionWarning: A column-vector y was passed when a 1d array was expected. Please change the shape of y to (n_samples, ), for example using ravel().\n",
            "  y = column_or_1d(y, warn=True)\n"
          ]
        },
        {
          "output_type": "execute_result",
          "data": {
            "text/plain": [
              "(0.07544986804602256, 0.27468139370190797)"
            ]
          },
          "metadata": {},
          "execution_count": 25
        }
      ]
    },
    {
      "cell_type": "code",
      "source": [
        "\n",
        "train = app_train[['CNT_CHILDREN']].values\n",
        "learn_ver(X=train, y=target )"
      ],
      "metadata": {
        "colab": {
          "base_uri": "https://localhost:8080/"
        },
        "id": "4_NG4pDGe_4X",
        "outputId": "a41b88f9-d19c-4909-8e89-9f08af650999"
      },
      "execution_count": 26,
      "outputs": [
        {
          "output_type": "stream",
          "name": "stderr",
          "text": [
            "/usr/local/lib/python3.9/dist-packages/sklearn/utils/validation.py:1143: DataConversionWarning: A column-vector y was passed when a 1d array was expected. Please change the shape of y to (n_samples, ), for example using ravel().\n",
            "  y = column_or_1d(y, warn=True)\n"
          ]
        },
        {
          "output_type": "execute_result",
          "data": {
            "text/plain": [
              "(0.07576433792151291, 0.27525322508830463)"
            ]
          },
          "metadata": {},
          "execution_count": 26
        }
      ]
    },
    {
      "cell_type": "markdown",
      "source": [
        "## [Problem 3] Estimation for test data"
      ],
      "metadata": {
        "id": "IRNlNZl6fHIY"
      }
    },
    {
      "cell_type": "markdown",
      "source": [
        "submit it done"
      ],
      "metadata": {
        "id": "5aOrNHwvfi8m"
      }
    },
    {
      "cell_type": "markdown",
      "source": [
        "#[Problem 4] Feature quantity engineering\n"
      ],
      "metadata": {
        "id": "sNPirKmSfndH"
      }
    },
    {
      "cell_type": "markdown",
      "source": [
        "which features to use\n",
        "\n",
        "CNT_CHILDREN, REGION_RATING_CLIENT, DAYS_ID_PUBLISH, DAYS_BIRTH, SK_ID_CURR\n",
        "\n",
        "how to pretreat\n",
        "\n",
        "Analysis of credit information assignment"
      ],
      "metadata": {
        "id": "7VKI8DhcfsAO"
      }
    }
  ]
}