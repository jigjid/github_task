{
  "nbformat": 4,
  "nbformat_minor": 0,
  "metadata": {
    "colab": {
      "provenance": [],
      "include_colab_link": true
    },
    "kernelspec": {
      "name": "python3",
      "display_name": "Python 3"
    },
    "language_info": {
      "name": "python"
    }
  },
  "cells": [
    {
      "cell_type": "markdown",
      "metadata": {
        "id": "view-in-github",
        "colab_type": "text"
      },
      "source": [
        "<a href=\"https://colab.research.google.com/github/jigjid/github_task/blob/main/Decision_tree.ipynb\" target=\"_parent\"><img src=\"https://colab.research.google.com/assets/colab-badge.svg\" alt=\"Open In Colab\"/></a>"
      ]
    },
    {
      "cell_type": "markdown",
      "source": [
        "##**Preprocessing**"
      ],
      "metadata": {
        "id": "b1yxd9YctMjk"
      }
    },
    {
      "cell_type": "code",
      "source": [
        "import numpy as np\n",
        "import pandas as pd\n",
        "import collections\n",
        "import matplotlib.pyplot as plt\n",
        "from sklearn.datasets import load_iris\n",
        "from sklearn.model_selection import train_test_split\n",
        "from sklearn.metrics import accuracy_score, precision_score, recall_score\n",
        "from sklearn.tree import DecisionTreeClassifier\n",
        "from sklearn.preprocessing import StandardScaler\n",
        "import matplotlib.colors"
      ],
      "metadata": {
        "id": "91s08-UxiqSd"
      },
      "execution_count": null,
      "outputs": []
    },
    {
      "cell_type": "markdown",
      "source": [
        "##**Problem 1-4**\n",
        "**Creating a Decesion tree Scratch**"
      ],
      "metadata": {
        "id": "5dAVhJMLp_qD"
      }
    },
    {
      "cell_type": "code",
      "execution_count": null,
      "metadata": {
        "id": "G-qW45YLhspg"
      },
      "outputs": [],
      "source": [
        "class  ScratchDecisionTreeClassifier ():\n",
        "  def __init__(self, verbose=False):\n",
        "      self.verbose = verbose\n",
        "\n",
        "\n",
        "  def fit(self, X, y):\n",
        "    self.gain = 0\n",
        "    for feature_index in range(X.shape[1]):\n",
        "        self.thresholds = np.unique(X[:,feature_index])\n",
        "        for threshold in self.thresholds:\n",
        "            _gain = self._calc_ig(X,feature_index,y,threshold)\n",
        "            if _gain > self.gain:\n",
        "                self.l_label = collections.Counter(y[X[:,feature_index] < threshold]).most_common()[0][0]\n",
        "                self.r_label = collections.Counter(y[X[:,feature_index] >= threshold]).most_common()[0][0]\n",
        "                self.feature = feature_index\n",
        "                self.threshold = threshold\n",
        "                self.gain = _gain\n",
        "                if self.verbose:\n",
        "                    print('feature',self.feature,'threshold',self.threshold,'gain',self.gain)    \n",
        "\n",
        "\n",
        "  def predict(self, X):\n",
        "    prediction = np.where(X[:,self.feature] < self.threshold,self.l_label,self.r_label)\n",
        "    return prediction\n",
        "\n",
        "\n",
        "  def _calc_gini(self,y):\n",
        "    labels,counts = np.unique(y,return_counts=True)\n",
        "    _gini = 0\n",
        "    for label in labels:\n",
        "        _gini += (counts[labels==label]/np.sum(counts))**2\n",
        "    gini = 1 - _gini\n",
        "    return gini\n",
        "\n",
        "\n",
        "  def _calc_ig(self,X,feature_index,y,threshold):\n",
        "    labels_l = y[X[:,feature_index] < threshold]\n",
        "    labels_r = y[X[:,feature_index] >= threshold]\n",
        "    gain_l = (len(labels_l)/(len(labels_l)+len(labels_r)))*self._calc_gini(labels_l)\n",
        "    gain_r = (len(labels_r)/(len(labels_l)+len(labels_r)))*self._calc_gini(labels_r)\n",
        "    gain = self._calc_gini(y) -gain_l -gain_r\n",
        "    return gain"
      ]
    },
    {
      "cell_type": "code",
      "source": [
        "def decision_region(X,y,slr):\n",
        "    mesh_f0, mesh_f1  = np.meshgrid(\n",
        "        np.arange(np.min(X[:,0]), np.max(X[:,0]), 0.01), \n",
        "        np.arange(np.min(X[:,1]), np.max(X[:,1]), 0.01)\n",
        "    )\n",
        "    mesh = np.c_[np.ravel(mesh_f0),np.ravel(mesh_f1)]\n",
        "    print(\"mesh shape:{}\".format(mesh.shape))\n",
        "    y_pred = slr.predict(mesh).reshape(mesh_f0.shape)\n",
        "    plt.title('decision region')\n",
        "    plt.xlabel('feature0')\n",
        "    plt.ylabel('feature1')\n",
        "    plt.contourf(mesh_f0, mesh_f1, y_pred,cmap=matplotlib.colors.ListedColormap(['pink', 'skyblue']))\n",
        "    plt.contour(mesh_f0, mesh_f1, y_pred,colors='red')\n",
        "    plt.scatter(X[y==0][:, 0], X[y==0][:, 1],label='0')\n",
        "    plt.scatter(X[y==1][:, 0], X[y==1][:, 1],label='1')\n",
        "    plt.legend()\n",
        "    plt.show()"
      ],
      "metadata": {
        "id": "mAe1YUEkrC69"
      },
      "execution_count": null,
      "outputs": []
    },
    {
      "cell_type": "markdown",
      "source": [
        "##**Problem 5**\n",
        "**Learning and estimation**"
      ],
      "metadata": {
        "id": "5ZMXpgCfrpK8"
      }
    },
    {
      "cell_type": "code",
      "source": [
        "iris_dataset = load_iris()\n",
        "\n",
        "X = iris_dataset.data[:100,:]\n",
        "y = iris_dataset.target[:100]\n",
        "\n",
        "X_train, X_test, y_train, y_test = train_test_split(X, y,train_size=0.8, random_state=0)\n",
        "\n",
        "scaler = StandardScaler()\n",
        "X_train = scaler.fit_transform(X_train)\n",
        "X_test = scaler.fit_transform(X_test)\n",
        "\n",
        "clf = ScratchDecisionTreeClassifier(verbose = True)\n",
        "clf.fit(X_train,y_train)"
      ],
      "metadata": {
        "colab": {
          "base_uri": "https://localhost:8080/"
        },
        "id": "gmN5ab3piwWn",
        "outputId": "2060cf34-b520-4aed-a20c-04e0d3c908d7"
      },
      "execution_count": null,
      "outputs": [
        {
          "output_type": "stream",
          "name": "stdout",
          "text": [
            "feature 0 threshold -1.5975414578074663 gain [0.01282051]\n",
            "feature 0 threshold -1.435765107649749 gain [0.01948052]\n",
            "feature 0 threshold -1.2739887574920306 gain [0.04054054]\n",
            "feature 0 threshold -1.1122124073343136 gain [0.04794521]\n",
            "feature 0 threshold -0.950436057176595 gain [0.07142857]\n",
            "feature 0 threshold -0.7886597070188778 gain [0.08666667]\n",
            "feature 0 threshold -0.6268833568611607 gain [0.12695925]\n",
            "feature 0 threshold -0.4651070067034421 gain [0.20572745]\n",
            "feature 0 threshold -0.303330656545725 gain [0.23142857]\n",
            "feature 0 threshold -0.14155430638800642 gain [0.24747475]\n",
            "feature 0 threshold 0.02022204376971069 gain [0.30050031]\n",
            "feature 2 threshold -0.8121921245041062 gain [0.38888889]\n",
            "feature 2 threshold -0.672610234148943 gain [0.47560976]\n",
            "feature 2 threshold 0.0950901628044546 gain [0.5]\n"
          ]
        }
      ]
    },
    {
      "cell_type": "code",
      "source": [
        "prediction = clf.predict(X_test)\n",
        "\n",
        "acc = accuracy_score(y_test, prediction)\n",
        "precision = precision_score(y_test, prediction, average='micro')\n",
        "recall = recall_score(y_test, prediction, average='micro')\n",
        "\n",
        "print('Scratch Desicion tree: Accuracy', acc, 'Precision ', precision, 'Recall ',recall)\n",
        "\n",
        "dtc = DecisionTreeClassifier(max_depth=1)\n",
        "dtc.fit(X_train, y_train)\n",
        "\n",
        "pred = dtc.predict(X_test)\n",
        "acc = accuracy_score(y_test, pred)\n",
        "precision = precision_score(y_test, pred, average='micro')\n",
        "recall = recall_score(y_test, pred, average='micro')\n",
        "\n",
        "print('Sklearn Desicion tree: Accuracy', acc, 'Precision ', precision, 'Recall ',recall)"
      ],
      "metadata": {
        "colab": {
          "base_uri": "https://localhost:8080/"
        },
        "id": "gq1RuPcTmFvT",
        "outputId": "e96cac32-b99b-470a-8122-2196faa2151a"
      },
      "execution_count": null,
      "outputs": [
        {
          "output_type": "stream",
          "name": "stdout",
          "text": [
            "Scratch Desicion tree: Accuracy 1.0 Precision  1.0 Recall  1.0\n",
            "Sklearn Desicion tree: Accuracy 1.0 Precision  1.0 Recall  1.0\n"
          ]
        }
      ]
    },
    {
      "cell_type": "markdown",
      "source": [
        "##**Problem 6**\n",
        "**Visualization of decision area**"
      ],
      "metadata": {
        "id": "OSybQKChqTyK"
      }
    },
    {
      "cell_type": "code",
      "source": [
        "X = iris_dataset.data[:100,:2]\n",
        "y = iris_dataset.target[:100]\n",
        "(X_train, X_test, y_train, y_test) = train_test_split(X, y, test_size=0.2)\n",
        "\n",
        "scaler = StandardScaler()\n",
        "X_train = scaler.fit_transform(X_train)\n",
        "X_test = scaler.fit_transform(X_test)\n",
        "\n",
        "clf = ScratchDecisionTreeClassifier(verbose = True)\n",
        "clf.fit(X_train,y_train)\n",
        "\n",
        "decision_region(X_test, y_test, clf)"
      ],
      "metadata": {
        "colab": {
          "base_uri": "https://localhost:8080/",
          "height": 503
        },
        "id": "JCsVdHmGqa2n",
        "outputId": "94d08b10-124d-4b56-9797-af5a52d83ad4"
      },
      "execution_count": null,
      "outputs": [
        {
          "output_type": "stream",
          "name": "stdout",
          "text": [
            "feature 0 threshold -1.741184408233408 gain [0.00632911]\n",
            "feature 0 threshold -1.420966586029564 gain [0.02631579]\n",
            "feature 0 threshold -1.2608576749276403 gain [0.04054054]\n",
            "feature 0 threshold -1.1007487638257183 gain [0.04794521]\n",
            "feature 0 threshold -0.9406398527237948 gain [0.06338028]\n",
            "feature 0 threshold -0.7805309416218728 gain [0.07792208]\n",
            "feature 0 threshold -0.6204220305199506 gain [0.11022121]\n",
            "feature 0 threshold -0.4603131194180271 gain [0.17412772]\n",
            "feature 0 threshold -0.14009529721418149 gain [0.1984127]\n",
            "feature 0 threshold 0.020013613887740617 gain [0.26297686]\n",
            "feature 0 threshold 0.18012252498966272 gain [0.26698413]\n",
            "mesh shape:(120848, 2)\n"
          ]
        },
        {
          "output_type": "display_data",
          "data": {
            "text/plain": [
              "<Figure size 432x288 with 1 Axes>"
            ],
            "image/png": "[encoded data removed]"
          },
          "metadata": {
            "needs_background": "light"
          }
        }
      ]
    }
  ]
}