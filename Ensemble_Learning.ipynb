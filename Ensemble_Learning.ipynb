{
  "nbformat": 4,
  "nbformat_minor": 0,
  "metadata": {
    "colab": {
      "provenance": [],
      "include_colab_link": true
    },
    "kernelspec": {
      "name": "python3",
      "display_name": "Python 3"
    },
    "language_info": {
      "name": "python"
    }
  },
  "cells": [
    {
      "cell_type": "markdown",
      "metadata": {
        "id": "view-in-github",
        "colab_type": "text"
      },
      "source": [
        "<a href=\"https://colab.research.google.com/github/jigjid/github_task/blob/main/Ensemble_Learning.ipynb\" target=\"_parent\"><img src=\"https://colab.research.google.com/assets/colab-badge.svg\" alt=\"Open In Colab\"/></a>"
      ]
    },
    {
      "cell_type": "code",
      "source": [
        "from sklearn.ensemble import VotingClassifier, RandomForestClassifier\n",
        "import numpy as np\n",
        "from sklearn import tree\n",
        "from sklearn.pipeline import make_pipeline\n",
        "from sklearn.preprocessing import StandardScaler\n",
        "import pandas as pd\n",
        "from sklearn.linear_model import LinearRegression , LogisticRegression\n",
        "from sklearn.model_selection import train_test_split, cross_val_score, RepeatedStratifiedKFold\n",
        "from sklearn.metrics import mean_squared_error, accuracy_score\n",
        "from numpy import mean\n",
        "from numpy import std\n",
        "from sklearn.tree import DecisionTreeClassifier\n",
        "from sklearn.svm import SVC\n",
        "from matplotlib import pyplot\n",
        "from sklearn.ensemble import StackingClassifier\n"
      ],
      "metadata": {
        "id": "fh86Du5yGGgR"
      },
      "execution_count": null,
      "outputs": []
    },
    {
      "cell_type": "code",
      "source": [
        "house_data = pd.read_csv('train.csv')\n",
        "\n",
        "data = house_data.loc[:,['GrLivArea','YearBuilt','SalePrice']]\n",
        "print(\"Null values of the data is \\n{}\".format(data.isnull().sum()))\n",
        "\n",
        "X = data.loc[:,['GrLivArea','YearBuilt']].to_numpy()\n",
        "y = data.loc[:,['SalePrice']].to_numpy()\n",
        "\n",
        "scaler = StandardScaler()\n",
        "X_train = scaler.fit_transform(X)"
      ],
      "metadata": {
        "colab": {
          "base_uri": "https://localhost:8080/"
        },
        "id": "d5XZKuRyKUya",
        "outputId": "9d647c0c-bef9-4fcb-f614-725035878d88"
      },
      "execution_count": null,
      "outputs": [
        {
          "output_type": "stream",
          "name": "stdout",
          "text": [
            "Null values of the data is \n",
            "GrLivArea    0\n",
            "YearBuilt    0\n",
            "SalePrice    0\n",
            "dtype: int64\n"
          ]
        }
      ]
    },
    {
      "cell_type": "markdown",
      "source": [
        "###**【Problem 1】**Scratch implementation of blending\n",
        "\n",
        "Scratch blending should be at least three examples of how it is more accurate than a single model. Increased accuracy means that the mean squared error (MSE) on the validation data is reduced."
      ],
      "metadata": {
        "id": "h7QFrYTCCN9R"
      }
    },
    {
      "cell_type": "code",
      "source": [
        "clf1 = tree.DecisionTreeClassifier()\n",
        "clf2 = LogisticRegression(multi_class='multinomial', random_state=1)\n",
        "clf3 = RandomForestClassifier(n_estimators=50, random_state=1)\n",
        "\n",
        "eclf = VotingClassifier(estimators=[ ('dtc', clf1), ('lgr', clf2), ('rfc', clf3)], voting='soft', verbose=True)\n",
        "\n",
        "\n",
        "eclf = eclf.fit(X_train,y)\n",
        "y_pred = eclf.predict(X_train)\n",
        "mse = mean_squared_error(y, y_pred)\n",
        "acc = accuracy_score(y,y_pred)\n",
        "\n",
        "print('mean squared error is {}'.format(mse))\n",
        "print('accuracy score: {}'.format(acc))\n",
        "print(f\"Estimators: {len(eclf.estimators_)}\")"
      ],
      "metadata": {
        "colab": {
          "base_uri": "https://localhost:8080/"
        },
        "id": "q-qP97r7g4vI",
        "outputId": "bfde80c1-3bd2-4794-f542-b171b97e157e"
      },
      "execution_count": null,
      "outputs": [
        {
          "output_type": "stream",
          "name": "stderr",
          "text": [
            "/usr/local/lib/python3.10/dist-packages/sklearn/preprocessing/_label.py:99: DataConversionWarning: A column-vector y was passed when a 1d array was expected. Please change the shape of y to (n_samples, ), for example using ravel().\n",
            "  y = column_or_1d(y, warn=True)\n",
            "/usr/local/lib/python3.10/dist-packages/sklearn/preprocessing/_label.py:134: DataConversionWarning: A column-vector y was passed when a 1d array was expected. Please change the shape of y to (n_samples, ), for example using ravel().\n",
            "  y = column_or_1d(y, dtype=self.classes_.dtype, warn=True)\n"
          ]
        },
        {
          "output_type": "stream",
          "name": "stdout",
          "text": [
            "[Voting] ...................... (1 of 3) Processing dtc, total=   0.1s\n",
            "[Voting] ...................... (2 of 3) Processing lgr, total=   1.8s\n",
            "[Voting] ...................... (3 of 3) Processing rfc, total=   1.6s\n",
            "mean squared error is 37016364.193835616\n",
            "accuracy score: 0.9452054794520548\n",
            "Estimators: 3\n"
          ]
        }
      ]
    },
    {
      "cell_type": "markdown",
      "source": [
        "###**【Problem 2】**Scratch implementation of bagging"
      ],
      "metadata": {
        "id": "R81UGgHofava"
      }
    },
    {
      "cell_type": "code",
      "execution_count": null,
      "metadata": {
        "colab": {
          "base_uri": "https://localhost:8080/"
        },
        "id": "6dPAooUmCNPa",
        "outputId": "85e53190-5b8d-4697-a4c3-b769fc5e3e48"
      },
      "outputs": [
        {
          "output_type": "stream",
          "name": "stdout",
          "text": [
            "[Voting] ...................... (1 of 3) Processing dtc, total=   0.1s\n",
            "[Voting] ...................... (2 of 3) Processing lgr, total=   2.1s\n",
            "[Voting] ...................... (3 of 3) Processing rfc, total=   2.8s\n",
            "mean squared error is 18961540.8125\n",
            "accuracy score: 0.949486301369863\n",
            "Estimators: 3\n"
          ]
        }
      ],
      "source": [
        "clf1 = tree.DecisionTreeClassifier()\n",
        "clf2 = LogisticRegression(multi_class='multinomial', random_state=1)\n",
        "clf3 = RandomForestClassifier(n_estimators=50, random_state=1)\n",
        "\n",
        "eclf = VotingClassifier(estimators=[ ('dtc', clf1), ('lgr', clf2), ('rfc', clf3)], voting='soft', verbose=True)\n",
        "\n",
        "x_train, x_test, y_train, y_test = train_test_split(X,y, random_state=123, test_size=0.2)\n",
        "\n",
        "scaler = StandardScaler()\n",
        "x_train = scaler.fit_transform(x_train)\n",
        "x_test = scaler.fit_transform(x_test)\n",
        "\n",
        "eclf = eclf.fit(x_train, y_train)\n",
        "y_pred = eclf.predict(x_train)\n",
        "mse = mean_squared_error(y_train, y_pred)\n",
        "acc = accuracy_score(y_train,y_pred)\n",
        "\n",
        "print('mean squared error is {}'.format(mse))\n",
        "print('accuracy score: {}'.format(acc))\n",
        "print(f\"Estimators: {len(eclf.estimators_)}\")"
      ]
    },
    {
      "cell_type": "code",
      "source": [
        "from sklearn.ensemble import BaggingClassifier\n",
        "bgg = BaggingClassifier(estimator=SVC(),n_estimators=10, random_state=0)\n",
        "bgg.fit(x_train, y_train)\n",
        "y_pred = bgg.predict(x_test)\n",
        "\n",
        "mse = mean_squared_error(y_test, y_pred)\n",
        "acc = accuracy_score(y_test,y_pred)\n",
        "\n",
        "print('mean squared error is {}'.format(mse))\n",
        "print('accuracy score: {}'.format(acc))"
      ],
      "metadata": {
        "colab": {
          "base_uri": "https://localhost:8080/"
        },
        "id": "MRCPa-b31yge",
        "outputId": "4e156a05-234e-4d01-aca3-7468116d1a54"
      },
      "execution_count": null,
      "outputs": [
        {
          "output_type": "stream",
          "name": "stderr",
          "text": [
            "/usr/local/lib/python3.10/dist-packages/sklearn/ensemble/_bagging.py:802: DataConversionWarning: A column-vector y was passed when a 1d array was expected. Please change the shape of y to (n_samples, ), for example using ravel().\n",
            "  y = column_or_1d(y, warn=True)\n"
          ]
        },
        {
          "output_type": "stream",
          "name": "stdout",
          "text": [
            "mean squared error is 5325343930.09589\n",
            "accuracy score: 0.003424657534246575\n"
          ]
        }
      ]
    },
    {
      "cell_type": "markdown",
      "source": [
        "###**【Problem 3】**Scratch mounting for stacking"
      ],
      "metadata": {
        "id": "sJBQhYAhiYi6"
      }
    },
    {
      "cell_type": "code",
      "source": [
        "data = pd.read_csv('train.csv')\n",
        "data = house_data.loc[:,['GrLivArea','YearBuilt','SalePrice']]\n",
        "print(\"Null values of the data is \\n{}\".format(data.isnull().sum()))\n",
        "\n",
        "X = data.loc[:,['GrLivArea','YearBuilt']].to_numpy()\n",
        "y = data.loc[:,['SalePrice']].to_numpy()\n",
        "\n",
        "x_train, x_test, y_train, y_test = train_test_split(X,y, random_state=123, test_size=0.2)\n",
        "\n",
        "scaler = StandardScaler()\n",
        "x_train = scaler.fit_transform(x_train)\n",
        "x_test = scaler.fit_transform(x_test)\n",
        "\n",
        "# get a stacking ensemble of models\n",
        "def get_stacking():\n",
        "    # define the base models\n",
        "    level0 = list()\n",
        "    level0.append(('svm', SVC()))\n",
        "    level0.append(('dtc', tree.DecisionTreeClassifier()))\n",
        "    level0.append(('rfc',RandomForestClassifier(n_estimators=50, random_state=1)))\n",
        "    # define meta learner model\n",
        "    level1 = LogisticRegression(multi_class='multinomial', random_state=1)\n",
        "    # define the stacking ensemble\n",
        "    model = StackingClassifier(estimators=level0, final_estimator=level1, cv=5)\n",
        "    return model\n",
        "\n",
        "# get a list of models to evaluate\n",
        "def get_models():\n",
        "    models = dict()\n",
        "    models['svm'] = SVC()\n",
        "    models['dtc'] = tree.DecisionTreeClassifier()\n",
        "    models['rfc'] = RandomForestClassifier(n_estimators=50, random_state=1)\n",
        "    models['stacking'] = get_stacking()\n",
        "    return models\n",
        " \n",
        "# evaluate a given model using cross-validation\n",
        "def evaluate_model(model, X, y):\n",
        "    cv = RepeatedStratifiedKFold(n_splits=2, n_repeats=3, random_state=1)\n",
        "    scores = cross_val_score(model, X, y, scoring='accuracy', cv=cv, n_jobs=-1, error_score='raise')\n",
        "    return scores\n",
        "\n",
        "# get the models to evaluate\n",
        "models = get_models()\n",
        "# evaluate the models and store results\n",
        "results, names = list(), list()\n",
        "for name, model in models.items():\n",
        "    scores = evaluate_model(model, x_train, y_train)\n",
        "    results.append(scores)\n",
        "    names.append(name)\n",
        "    print('>%s %.3f (%.3f)' % (name, mean(scores), std(scores)))\n",
        "# plot model performance for comparison\n",
        "pyplot.boxplot(results, labels=names, showmeans=True)\n",
        "pyplot.show()"
      ],
      "metadata": {
        "colab": {
          "base_uri": "https://localhost:8080/",
          "height": 797
        },
        "id": "SbNW2xOrfeQ7",
        "outputId": "8c78dbfd-c7cf-442b-86df-a8dc68ce6b2e"
      },
      "execution_count": null,
      "outputs": [
        {
          "output_type": "stream",
          "name": "stderr",
          "text": [
            "/usr/local/lib/python3.10/dist-packages/sklearn/model_selection/_split.py:700: UserWarning: The least populated class in y has only 1 members, which is less than n_splits=2.\n",
            "  warnings.warn(\n"
          ]
        },
        {
          "output_type": "stream",
          "name": "stdout",
          "text": [
            ">svm 0.019 (0.001)\n",
            ">dtc 0.012 (0.003)\n"
          ]
        },
        {
          "output_type": "stream",
          "name": "stderr",
          "text": [
            "/usr/local/lib/python3.10/dist-packages/sklearn/model_selection/_split.py:700: UserWarning: The least populated class in y has only 1 members, which is less than n_splits=2.\n",
            "  warnings.warn(\n",
            "/usr/local/lib/python3.10/dist-packages/sklearn/model_selection/_split.py:700: UserWarning: The least populated class in y has only 1 members, which is less than n_splits=2.\n",
            "  warnings.warn(\n",
            "/usr/local/lib/python3.10/dist-packages/sklearn/model_selection/_split.py:700: UserWarning: The least populated class in y has only 1 members, which is less than n_splits=2.\n",
            "  warnings.warn(\n"
          ]
        },
        {
          "output_type": "stream",
          "name": "stdout",
          "text": [
            ">rfc 0.010 (0.003)\n"
          ]
        },
        {
          "output_type": "stream",
          "name": "stderr",
          "text": [
            "/usr/local/lib/python3.10/dist-packages/sklearn/model_selection/_split.py:700: UserWarning: The least populated class in y has only 1 members, which is less than n_splits=2.\n",
            "  warnings.warn(\n",
            "/usr/local/lib/python3.10/dist-packages/sklearn/model_selection/_split.py:700: UserWarning: The least populated class in y has only 1 members, which is less than n_splits=2.\n",
            "  warnings.warn(\n",
            "/usr/local/lib/python3.10/dist-packages/sklearn/model_selection/_split.py:700: UserWarning: The least populated class in y has only 1 members, which is less than n_splits=2.\n",
            "  warnings.warn(\n",
            "/usr/local/lib/python3.10/dist-packages/sklearn/model_selection/_split.py:700: UserWarning: The least populated class in y has only 1 members, which is less than n_splits=2.\n",
            "  warnings.warn(\n"
          ]
        },
        {
          "output_type": "stream",
          "name": "stdout",
          "text": [
            ">stacking 0.000 (0.000)\n"
          ]
        },
        {
          "output_type": "display_data",
          "data": {
            "text/plain": [
              "<Figure size 640x480 with 1 Axes>"
            ],
            "image/png": "[encoded data removed]"
          },
          "metadata": {}
        }
      ]
    }
  ]
}