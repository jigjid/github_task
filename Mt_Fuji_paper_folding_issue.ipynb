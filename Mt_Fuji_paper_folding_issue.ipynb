{
  "nbformat": 4,
  "nbformat_minor": 0,
  "metadata": {
    "colab": {
      "provenance": [],
      "authorship_tag": "ABX9TyOTdvw+2WUrziyuR7FNhn/F",
      "include_colab_link": true
    },
    "kernelspec": {
      "name": "python3",
      "display_name": "Python 3"
    },
    "language_info": {
      "name": "python"
    }
  },
  "cells": [
    {
      "cell_type": "markdown",
      "metadata": {
        "id": "view-in-github",
        "colab_type": "text"
      },
      "source": [
        "<a href=\"https://colab.research.google.com/github/jigjid/github_task/blob/main/Mt_Fuji_paper_folding_issue.ipynb\" target=\"_parent\"><img src=\"https://colab.research.google.com/assets/colab-badge.svg\" alt=\"Open In Colab\"/></a>"
      ]
    },
    {
      "cell_type": "markdown",
      "source": [
        "[Problem 1] How many times to fold paper to exceed the height of Mt.Fuji?\n",
        "\n"
      ],
      "metadata": {
        "id": "Q-g70M5UdZ2O"
      }
    },
    {
      "cell_type": "code",
      "source": [
        "thickness = 0.00008\n",
        "height = 3776\n",
        "folded_number = 0\n",
        "h = 1\n",
        "while h>0:\n",
        "    thickness = thickness * 2\n",
        "    h = height - thickness\n",
        "    folded_number = folded_number + 1\n",
        "print(folded_number, thickness)\n"
      ],
      "metadata": {
        "colab": {
          "base_uri": "https://localhost:8080/"
        },
        "id": "W0g4yxmQddcu",
        "outputId": "17ec4e50-4726-4bd7-e8cf-adb5cff233ea"
      },
      "execution_count": 2,
      "outputs": [
        {
          "output_type": "stream",
          "name": "stdout",
          "text": [
            "26 5368.70912\n"
          ]
        }
      ]
    },
    {
      "cell_type": "markdown",
      "source": [
        "[Problem 2] Function corresponding to arbitrary thickness\""
      ],
      "metadata": {
        "id": "kWcDdweY8M9W"
      }
    },
    {
      "cell_type": "code",
      "source": [
        "def min_fold(height):\n",
        "  thickness = 0.00008\n",
        "  num_fold = 0\n",
        "  h = 1\n",
        "  while h > 0:\n",
        "    thickness = thickness * 2\n",
        "    h = height - thickness\n",
        "    num_fold = num_fold + 1\n",
        "  return num_fold\n",
        "number_min_fold = min_fold(4.0175*pow(10,16))\n",
        "print(\"{} time fold a piece of paper to reach the nearest non-sun star\".format(number_min_fold))"
      ],
      "metadata": {
        "colab": {
          "base_uri": "https://localhost:8080/"
        },
        "id": "Emq6iMfH8jjp",
        "outputId": "60fef3ad-da46-4944-a536-6488f887c940"
      },
      "execution_count": 4,
      "outputs": [
        {
          "output_type": "stream",
          "name": "stdout",
          "text": [
            "69 time fold a piece of paper to reach the nearest non-sun star\n"
          ]
        }
      ]
    },
    {
      "cell_type": "markdown",
      "source": [
        "[Problem 3] Required paper length"
      ],
      "metadata": {
        "id": "zqT3P2-u9G-q"
      }
    },
    {
      "cell_type": "code",
      "source": [
        "def min_fold(height):\n",
        "  t_0 = 0.00008\n",
        "  num_fold = 0\n",
        "  h = 1\n",
        "  while h > 0:\n",
        "    t_0 = t_0 * 2\n",
        "    h = height - t_0\n",
        "    num_fold = num_fold + 1\n",
        "  return num_fold\n",
        "t_0 = 0.00008\n",
        "\n",
        "def length_paper(height):\n",
        "  number_fold = min_fold(height)\n",
        "  pi = 3.14\n",
        "  l = (pi*t_0/6)*(pow(2,number_fold+4))*(pow(2,number_fold)-1)\n",
        "  print(\"{} length of paper needed to reach the Moon\".format(l))\n",
        "\n",
        "length_paper(384400000)\n",
        "length_paper(3776)\n",
        "length_paper(4.0175*pow(10,16))"
      ],
      "metadata": {
        "colab": {
          "base_uri": "https://localhost:8080/"
        },
        "id": "0y0zAhHD8k5m",
        "outputId": "5e881650-fd3b-4eaf-8a20-62fe6b59cbfc"
      },
      "execution_count": 8,
      "outputs": [
        {
          "output_type": "stream",
          "name": "stdout",
          "text": [
            "5.182842297807537e+22 length of paper needed to reach the Moon\n",
            "3016811225433.9253 length of paper needed to reach the Moon\n",
            "2.334144664112872e+38 length of paper needed to reach the Moon\n"
          ]
        }
      ]
    },
    {
      "cell_type": "code",
      "source": [],
      "metadata": {
        "id": "cgH0TGtw9NvN"
      },
      "execution_count": null,
      "outputs": []
    }
  ]
}