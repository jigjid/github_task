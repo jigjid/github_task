{
  "cells": [
    {
      "cell_type": "markdown",
      "metadata": {
        "id": "view-in-github",
        "colab_type": "text"
      },
      "source": [
        "<a href=\"https://colab.research.google.com/github/jigjid/github_task/blob/main/Sorori_Shinzaemon_problem.ipynb\" target=\"_parent\"><img src=\"https://colab.research.google.com/assets/colab-badge.svg\" alt=\"Open In Colab\"/></a>"
      ]
    },
    {
      "cell_type": "code",
      "execution_count": null,
      "metadata": {
        "colab": {
          "base_uri": "https://localhost:8080/"
        },
        "id": "zDMuwVOxORq4",
        "outputId": "87a88ce3-4061-40ca-b839-a681fd6a6adb"
      },
      "outputs": [
        {
          "output_type": "stream",
          "name": "stdout",
          "text": [
            "100 days: 1267650600228229401496703205376 rice\n"
          ]
        }
      ],
      "source": [
        "rise= 1\n",
        "\n",
        "one_hundred_days = rise * 2**100\n",
        "\n",
        "print(\"100 days: {} rice\".format(one_hundred_days))\n"
      ]
    },
    {
      "cell_type": "markdown",
      "source": [
        "【Problem 2] Number of rice grains outside of the 100th day"
      ],
      "metadata": {
        "id": "WTy2SfPyZart"
      }
    },
    {
      "cell_type": "code",
      "execution_count": 2,
      "metadata": {
        "colab": {
          "base_uri": "https://localhost:8080/",
          "height": 295
        },
        "id": "JCTZ79G9QeM2",
        "outputId": "796e3f2e-d15d-47a9-b6a1-9baa8e527da1"
      },
      "outputs": [
        {
          "output_type": "display_data",
          "data": {
            "text/plain": [
              "<Figure size 432x288 with 1 Axes>"
            ],
            "image/png": "[encoded data removed]"
          },
          "metadata": {
            "needs_background": "light"
          }
        }
      ],
      "source": [
        "import matplotlib.pyplot as plt\n",
        "%matplotlib inline\n",
        "rice=1\n",
        "for i in range(100):\n",
        " rice1=rice * 2\n",
        " x = []\n",
        "for i in range(100):\n",
        "  x.append(rice1*2**i)\n",
        "  plt.title(\"Soroshi Shinzaemon problem\")\n",
        "plt.xlabel(\"days\")\n",
        "plt.ylabel(\"rice\")\n",
        "plt.plot(x,linewidth=10, color='green',linestyle='--',dashes=(2, 1))  \n",
        "plt.show()\n",
        "\n"
      ]
    },
    {
      "cell_type": "markdown",
      "source": [
        "Problem 3] How many people can live for how many days with the rice we get?"
      ],
      "metadata": {
        "id": "YF--3lqZbHjI"
      }
    },
    {
      "cell_type": "code",
      "execution_count": 5,
      "metadata": {
        "id": "DfHUYhVFR0MX",
        "colab": {
          "base_uri": "https://localhost:8080/"
        },
        "outputId": "ed48adf5-44d8-40dc-fdc1-7b63d1932793"
      },
      "outputs": [
        {
          "output_type": "stream",
          "name": "stdout",
          "text": [
            "30 people can live 74 days\n"
          ]
        }
      ],
      "source": [
        "def calculate_day(course_day=30):\n",
        "  number_people = 100 \n",
        "  number_rice = 0 \n",
        "  number_day_live : int\n",
        "  rice_per_day = 4800\n",
        "  \n",
        "  rice = 1\n",
        "  course_day\n",
        "  for i in range(course_day):\n",
        "    number_rice = number_rice + rice\n",
        "    rice = rice * 2\n",
        "  pass\n",
        "  rice_per_day = number_rice // (number_people * rice_per_day * course_day)\n",
        "  return rice_per_day\n",
        "number_people_in_course = 30\n",
        "number_day = calculate_day()\n",
        "print(\"{} people can live {} days\".format(number_people_in_course, number_day))"
      ]
    },
    {
      "cell_type": "code",
      "source": [],
      "metadata": {
        "id": "aRhOivaSbs6M"
      },
      "execution_count": null,
      "outputs": []
    }
  ],
  "metadata": {
    "colab": {
      "provenance": [],
      "authorship_tag": "ABX9TyMphM1uKIpUp2dx1KcLoTYn",
      "include_colab_link": true
    },
    "kernelspec": {
      "display_name": "Python 3",
      "name": "python3"
    },
    "language_info": {
      "name": "python"
    }
  },
  "nbformat": 4,
  "nbformat_minor": 0
}