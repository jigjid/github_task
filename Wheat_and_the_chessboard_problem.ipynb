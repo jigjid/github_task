{
  "nbformat": 4,
  "nbformat_minor": 0,
  "metadata": {
    "colab": {
      "provenance": [],
      "authorship_tag": "ABX9TyNaygI6lisspChL/+L+DLo7",
      "include_colab_link": true
    },
    "kernelspec": {
      "name": "python3",
      "display_name": "Python 3"
    },
    "language_info": {
      "name": "python"
    }
  },
  "cells": [
    {
      "cell_type": "markdown",
      "metadata": {
        "id": "view-in-github",
        "colab_type": "text"
      },
      "source": [
        "<a href=\"https://colab.research.google.com/github/jigjid/github_task/blob/main/Wheat_and_the_chessboard_problem.ipynb\" target=\"_parent\"><img src=\"https://colab.research.google.com/assets/colab-badge.svg\" alt=\"Open In Colab\"/></a>"
      ]
    },
    {
      "cell_type": "markdown",
      "source": [
        "### Example code"
      ],
      "metadata": {
        "id": "wOTHQPhrmfo2"
      }
    },
    {
      "cell_type": "code",
      "execution_count": 1,
      "metadata": {
        "id": "mz9rtu2otPR2",
        "colab": {
          "base_uri": "https://localhost:8080/"
        },
        "outputId": "ace4e791-bf0a-43e4-877a-39c69a9e0e37"
      },
      "outputs": [
        {
          "output_type": "stream",
          "name": "stdout",
          "text": [
            "4マスの板に小麦を並べる（リスト）：[1, 2, 4, 8]\n"
          ]
        }
      ],
      "source": [
        "n_squares = 4\n",
        "small_board_list = [1]\n",
        "for _ in range(n_squares - 1):\n",
        "    small_board_list.append(2*small_board_list[-1])\n",
        "print(\"4マスの板に小麦を並べる（リスト）：{}\".format(small_board_list))\n"
      ]
    },
    {
      "cell_type": "code",
      "source": [
        "import numpy as np\n",
        "\n",
        "small_board_ndarray = np.array(small_board_list)\n",
        "print(\"4マスの板に小麦を並べる（ndarray）：{}\".format(small_board_ndarray))"
      ],
      "metadata": {
        "id": "eCGwM73htj_P",
        "colab": {
          "base_uri": "https://localhost:8080/"
        },
        "outputId": "8d907c32-18f4-402e-c454-14d0117ac780"
      },
      "execution_count": 2,
      "outputs": [
        {
          "output_type": "stream",
          "name": "stdout",
          "text": [
            "4マスの板に小麦を並べる（ndarray）：[1 2 4 8]\n"
          ]
        }
      ]
    },
    {
      "cell_type": "markdown",
      "source": [
        "# Question 1] Number of wheat on a 2x2 square chessboard\n"
      ],
      "metadata": {
        "id": "X67-GJzbnQra"
      }
    },
    {
      "cell_type": "code",
      "source": [
        "square_board=small_board_ndarray.reshape((2,2))\n",
        "print(\" 2x2 squares board:{}\".format(square_board))"
      ],
      "metadata": {
        "colab": {
          "base_uri": "https://localhost:8080/"
        },
        "id": "FPXbp68mnAUT",
        "outputId": "eaf9c5f5-4351-4016-fc84-1b2dba42b28f"
      },
      "execution_count": 5,
      "outputs": [
        {
          "output_type": "stream",
          "name": "stdout",
          "text": [
            " 2x2 squares board:[[1 2]\n",
            " [4 8]]\n"
          ]
        }
      ]
    },
    {
      "cell_type": "markdown",
      "source": [
        "## [Problem 2] Extension to n × m squares"
      ],
      "metadata": {
        "id": "Srk-PoTdrZPe"
      }
    },
    {
      "cell_type": "code",
      "source": [
        "def NxM_square(x=8,y=8):\n",
        "  board_list=[1]\n",
        "  for _ in range(x*y - 1):\n",
        "    board_list.append(2*board_list[-1])\n",
        "  board_list_ndarray=np.array(board_list)\n",
        "  square = board_list_ndarray.reshape((x,y))\n",
        "  return square\n",
        "matrix_8x8 = NxM_square()\n",
        "print(matrix_8x8)\n",
        "\n",
        "  \n"
      ],
      "metadata": {
        "colab": {
          "base_uri": "https://localhost:8080/"
        },
        "id": "QMf7iKehrCRl",
        "outputId": "79378729-daeb-44eb-80be-1c2f3e813e4b"
      },
      "execution_count": 12,
      "outputs": [
        {
          "output_type": "stream",
          "name": "stdout",
          "text": [
            "[[1.00000000e+00 2.00000000e+00 4.00000000e+00 8.00000000e+00\n",
            "  1.60000000e+01 3.20000000e+01 6.40000000e+01 1.28000000e+02]\n",
            " [2.56000000e+02 5.12000000e+02 1.02400000e+03 2.04800000e+03\n",
            "  4.09600000e+03 8.19200000e+03 1.63840000e+04 3.27680000e+04]\n",
            " [6.55360000e+04 1.31072000e+05 2.62144000e+05 5.24288000e+05\n",
            "  1.04857600e+06 2.09715200e+06 4.19430400e+06 8.38860800e+06]\n",
            " [1.67772160e+07 3.35544320e+07 6.71088640e+07 1.34217728e+08\n",
            "  2.68435456e+08 5.36870912e+08 1.07374182e+09 2.14748365e+09]\n",
            " [4.29496730e+09 8.58993459e+09 1.71798692e+10 3.43597384e+10\n",
            "  6.87194767e+10 1.37438953e+11 2.74877907e+11 5.49755814e+11]\n",
            " [1.09951163e+12 2.19902326e+12 4.39804651e+12 8.79609302e+12\n",
            "  1.75921860e+13 3.51843721e+13 7.03687442e+13 1.40737488e+14]\n",
            " [2.81474977e+14 5.62949953e+14 1.12589991e+15 2.25179981e+15\n",
            "  4.50359963e+15 9.00719925e+15 1.80143985e+16 3.60287970e+16]\n",
            " [7.20575940e+16 1.44115188e+17 2.88230376e+17 5.76460752e+17\n",
            "  1.15292150e+18 2.30584301e+18 4.61168602e+18 9.22337204e+18]]\n"
          ]
        }
      ]
    },
    {
      "cell_type": "markdown",
      "source": [
        "## [Question 3] Total number of wheat"
      ],
      "metadata": {
        "id": "eDHuppQqvdTc"
      }
    },
    {
      "cell_type": "code",
      "source": [
        "import pandas as pd\n",
        "import matplotlib.pyplot as plt\n",
        "matrix_8x8 = NxM_square()\n",
        "df = pd.DataFrame(matrix_8x8)\n",
        "\n",
        "plt.xlabel(\"column\")\n",
        "plt.ylabel(\"number\")\n",
        "plt.title(\"number in each column\")\n",
        "col_8 = [df.loc[:, 0].mean(), df.loc[:, 1].mean(),df.loc[:, 2].mean(),df.loc[:, 3].mean(),df.loc[:, 4].mean(),df.loc[:, 5].mean(),df.loc[:, 6].mean(),df.loc[:, 7].mean()]\n",
        "plt.bar(np.arange(1,9), col_8)\n",
        "plt.show()"
      ],
      "metadata": {
        "colab": {
          "base_uri": "https://localhost:8080/",
          "height": 295
        },
        "id": "lblxZm6HugUq",
        "outputId": "c80e9eff-14a9-4ddb-947e-bfc4edea8768"
      },
      "execution_count": 24,
      "outputs": [
        {
          "output_type": "display_data",
          "data": {
            "text/plain": [
              "<Figure size 432x288 with 1 Axes>"
            ],
            "image/png": "[encoded data removed]"
          },
          "metadata": {
            "needs_background": "light"
          }
        }
      ]
    },
    {
      "cell_type": "markdown",
      "source": [
        "## [Question 4] Heat map of the number of wheat"
      ],
      "metadata": {
        "id": "WWnUA5ar1Ryy"
      }
    },
    {
      "cell_type": "code",
      "source": [
        "plt.xlabel(\"column\")\n",
        "plt.ylabel(\"row\")\n",
        "plt.title(\"heatmap\")\n",
        "plt.pcolor(np.array([0, 1, 3, 5, 7, 9, 11, 13]).reshape(4, 2))\n",
        "plt.show()"
      ],
      "metadata": {
        "colab": {
          "base_uri": "https://localhost:8080/",
          "height": 295
        },
        "id": "X0B78-Pfuv7u",
        "outputId": "0077859d-6ab4-4235-86e4-7bfaf06aaadf"
      },
      "execution_count": 25,
      "outputs": [
        {
          "output_type": "display_data",
          "data": {
            "text/plain": [
              "<Figure size 432x288 with 1 Axes>"
            ],
            "image/png": "[encoded data removed]"
          },
          "metadata": {
            "needs_background": "light"
          }
        }
      ]
    },
    {
      "cell_type": "code",
      "source": [
        "plt.xlabel(\"column\")\n",
        "plt.ylabel(\"row\")\n",
        "plt.title(\"heatmap\")\n",
        "plt.pcolor(np.array([matrix_8x8]).reshape(8, 8))\n",
        "plt.show()"
      ],
      "metadata": {
        "id": "VsfSlbpz1ekL",
        "outputId": "6f400dac-3c97-40e8-9d37-d1113a0c1fdf",
        "colab": {
          "base_uri": "https://localhost:8080/",
          "height": 295
        }
      },
      "execution_count": 28,
      "outputs": [
        {
          "output_type": "display_data",
          "data": {
            "text/plain": [
              "<Figure size 432x288 with 1 Axes>"
            ],
            "image/png": "[encoded data removed]"
          },
          "metadata": {
            "needs_background": "light"
          }
        }
      ]
    },
    {
      "cell_type": "markdown",
      "source": [
        "## [Question 5] How many times the second half is the first half?"
      ],
      "metadata": {
        "id": "_Rb42Iag2NAs"
      }
    },
    {
      "cell_type": "code",
      "source": [
        "first_half = NxM_square(4, 8)\n",
        "second_half = first_half * pow(2,32)\n",
        "print(second_half)"
      ],
      "metadata": {
        "id": "h7pU9Ln_12xT",
        "outputId": "95fd1e1f-7f12-47d1-980d-01f1faa3abb5",
        "colab": {
          "base_uri": "https://localhost:8080/"
        }
      },
      "execution_count": 32,
      "outputs": [
        {
          "output_type": "stream",
          "name": "stdout",
          "text": [
            "[[          4294967296           8589934592          17179869184\n",
            "           34359738368          68719476736         137438953472\n",
            "          274877906944         549755813888]\n",
            " [       1099511627776        2199023255552        4398046511104\n",
            "         8796093022208       17592186044416       35184372088832\n",
            "        70368744177664      140737488355328]\n",
            " [     281474976710656      562949953421312     1125899906842624\n",
            "      2251799813685248     4503599627370496     9007199254740992\n",
            "     18014398509481984    36028797018963968]\n",
            " [   72057594037927936   144115188075855872   288230376151711744\n",
            "    576460752303423488  1152921504606846976  2305843009213693952\n",
            "   4611686018427387904 -9223372036854775808]]\n"
          ]
        }
      ]
    },
    {
      "cell_type": "markdown",
      "source": [
        "## 6. Other calculation methods"
      ],
      "metadata": {
        "id": "KYXgwwOn3WAM"
      }
    },
    {
      "cell_type": "markdown",
      "source": [
        "<<Sample code (np.append())>>"
      ],
      "metadata": {
        "id": "gL7WUoCt3ZF0"
      }
    },
    {
      "cell_type": "code",
      "source": [
        "n_squares = 4\n",
        "small_board_ndarray = np.array([1])\n",
        "for _ in range(n_squares - 1):\n",
        "    small_board_ndarray = np.append(small_board_ndarray, 2*small_board_ndarray[-1])\n",
        "print(\"4マスの板に小麦を並べる（ndarray）：{}\".format(small_board_ndarray))"
      ],
      "metadata": {
        "id": "lmk-b5hF2kYt",
        "outputId": "b1175be6-5956-4118-ca2c-359364002a05",
        "colab": {
          "base_uri": "https://localhost:8080/"
        }
      },
      "execution_count": 33,
      "outputs": [
        {
          "output_type": "stream",
          "name": "stdout",
          "text": [
            "4マスの板に小麦を並べる（ndarray）：[1 2 4 8]\n"
          ]
        }
      ]
    },
    {
      "cell_type": "markdown",
      "source": [
        "《Sample Code (Broadcast)》"
      ],
      "metadata": {
        "id": "K7RykPDj3gXX"
      }
    },
    {
      "cell_type": "code",
      "source": [
        "n_squares = 4\n",
        "indices_of_squares = np.arange(n_squares)\n",
        "small_board_ndarray = 2**indices_of_squares\n",
        "print(\"4マスの板に小麦を並べる（ndarray）：{}\".format(small_board_ndarray))"
      ],
      "metadata": {
        "id": "SaL7ePqo3fiA",
        "outputId": "10bfcec2-a27b-4cca-fdc9-3ab4b2f7dfc9",
        "colab": {
          "base_uri": "https://localhost:8080/"
        }
      },
      "execution_count": 34,
      "outputs": [
        {
          "output_type": "stream",
          "name": "stdout",
          "text": [
            "4マスの板に小麦を並べる（ndarray）：[1 2 4 8]\n"
          ]
        }
      ]
    },
    {
      "cell_type": "markdown",
      "source": [
        "Broadcast of numpy"
      ],
      "metadata": {
        "id": "jBdGBwfq3lun"
      }
    },
    {
      "cell_type": "code",
      "source": [
        "import numpy as np\n",
        "a = np.array([0,1,2])\n",
        "\n",
        "#ブロードキャストを使わない場合\n",
        "b = np.array([5,5,5])\n",
        "print(a + b)  \n",
        "\n",
        "\n",
        "print(a + 5)\n",
        "     "
      ],
      "metadata": {
        "id": "FY18SWZO3rVW",
        "outputId": "52f40433-f3fd-41c7-8249-30f56ab8a437",
        "colab": {
          "base_uri": "https://localhost:8080/"
        }
      },
      "execution_count": 35,
      "outputs": [
        {
          "output_type": "stream",
          "name": "stdout",
          "text": [
            "[5 6 7]\n",
            "[5 6 7]\n"
          ]
        }
      ]
    },
    {
      "cell_type": "markdown",
      "source": [
        "ndarray type"
      ],
      "metadata": {
        "id": "ZBnLUMkB3u11"
      }
    },
    {
      "cell_type": "code",
      "source": [
        "n_squares = 64\n",
        "board_ndarray = np.array([1])\n",
        "for _ in range(n_squares - 1):\n",
        "    board_ndarray = np.append(board_ndarray, 2*board_ndarray[-1])\n",
        "print(\"最後のマスの小麦の数：{}\".format(board_ndarray[-1])) "
      ],
      "metadata": {
        "id": "4sNNgpV33z5_",
        "outputId": "c867e27c-a8ad-4eb3-e151-b179db9c82ab",
        "colab": {
          "base_uri": "https://localhost:8080/"
        }
      },
      "execution_count": 36,
      "outputs": [
        {
          "output_type": "stream",
          "name": "stdout",
          "text": [
            "最後のマスの小麦の数：-9223372036854775808\n"
          ]
        },
        {
          "output_type": "stream",
          "name": "stderr",
          "text": [
            "<ipython-input-36-5cffe3668b3a>:4: RuntimeWarning: overflow encountered in long_scalars\n",
            "  board_ndarray = np.append(board_ndarray, 2*board_ndarray[-1])\n"
          ]
        }
      ]
    },
    {
      "cell_type": "code",
      "source": [
        "n_squares = 64\n",
        "indices_of_squares = np.arange(n_squares)\n",
        "board_ndarray = 2**indices_of_squares\n",
        "print(\"最後のマスの小麦の数：{}\".format(board_ndarray[-1])) "
      ],
      "metadata": {
        "id": "mPZMYJdf347u",
        "outputId": "471da729-84b1-418f-d89e-b61f2c3c8a67",
        "colab": {
          "base_uri": "https://localhost:8080/"
        }
      },
      "execution_count": 37,
      "outputs": [
        {
          "output_type": "stream",
          "name": "stdout",
          "text": [
            "最後のマスの小麦の数：-9223372036854775808\n"
          ]
        }
      ]
    },
    {
      "cell_type": "code",
      "source": [
        "print(board_ndarray.dtype)"
      ],
      "metadata": {
        "id": "dTkZfimF38OR",
        "outputId": "491fb09d-0c81-46b0-e689-525bb0d74a38",
        "colab": {
          "base_uri": "https://localhost:8080/"
        }
      },
      "execution_count": 38,
      "outputs": [
        {
          "output_type": "stream",
          "name": "stdout",
          "text": [
            "int64\n"
          ]
        }
      ]
    },
    {
      "cell_type": "code",
      "source": [
        "n_squares = 64\n",
        "indices_of_squares = np.arange(n_squares).astype(np.uint64)\n",
        "board_ndarray = 2**indices_of_squares\n",
        "print(\"最後のマスの小麦の数：{}\".format(board_ndarray[-1]))"
      ],
      "metadata": {
        "id": "ykNQI2vu3_VX",
        "outputId": "1770bbc8-ffd1-4235-c764-2f5180f5ed93",
        "colab": {
          "base_uri": "https://localhost:8080/"
        }
      },
      "execution_count": 39,
      "outputs": [
        {
          "output_type": "stream",
          "name": "stdout",
          "text": [
            "最後のマスの小麦の数：9223372036854775808\n"
          ]
        }
      ]
    },
    {
      "cell_type": "markdown",
      "source": [
        "### [Problem 6] Extension to n × m squares by other calculation methods"
      ],
      "metadata": {
        "id": "SvpRjtIU4M5H"
      }
    },
    {
      "cell_type": "code",
      "source": [
        "def NxM_square(x=8,y=8):\n",
        "  board_list=[1]\n",
        "  for _ in range(x*y - 1):\n",
        "    board_list.append(2*board_list[-1])\n",
        "  board_list_ndarray=np.array(board_list)\n",
        "  square = board_list_ndarray.reshape((x,y))\n",
        "  return square\n",
        "matrix_8x8 = NxM_square()\n",
        "print(matrix_8x8)\n",
        "print(\"============================\")\n",
        "\n",
        "n_squares = 8\n",
        "board_array = np.array([1]).astype(np.uint64)\n",
        "for _ in range(n_squares * n_squares - 1):\n",
        "  board_array = np.append(board_array, 2*board_array[-1])\n",
        "print(board_array)"
      ],
      "metadata": {
        "id": "HhQXCvdd4ElV",
        "outputId": "b3df33f8-ae3f-4fb3-a9d1-cfd0ce058519",
        "colab": {
          "base_uri": "https://localhost:8080/"
        }
      },
      "execution_count": 47,
      "outputs": [
        {
          "output_type": "stream",
          "name": "stdout",
          "text": [
            "[[1.00000000e+00 2.00000000e+00 4.00000000e+00 8.00000000e+00\n",
            "  1.60000000e+01 3.20000000e+01 6.40000000e+01 1.28000000e+02]\n",
            " [2.56000000e+02 5.12000000e+02 1.02400000e+03 2.04800000e+03\n",
            "  4.09600000e+03 8.19200000e+03 1.63840000e+04 3.27680000e+04]\n",
            " [6.55360000e+04 1.31072000e+05 2.62144000e+05 5.24288000e+05\n",
            "  1.04857600e+06 2.09715200e+06 4.19430400e+06 8.38860800e+06]\n",
            " [1.67772160e+07 3.35544320e+07 6.71088640e+07 1.34217728e+08\n",
            "  2.68435456e+08 5.36870912e+08 1.07374182e+09 2.14748365e+09]\n",
            " [4.29496730e+09 8.58993459e+09 1.71798692e+10 3.43597384e+10\n",
            "  6.87194767e+10 1.37438953e+11 2.74877907e+11 5.49755814e+11]\n",
            " [1.09951163e+12 2.19902326e+12 4.39804651e+12 8.79609302e+12\n",
            "  1.75921860e+13 3.51843721e+13 7.03687442e+13 1.40737488e+14]\n",
            " [2.81474977e+14 5.62949953e+14 1.12589991e+15 2.25179981e+15\n",
            "  4.50359963e+15 9.00719925e+15 1.80143985e+16 3.60287970e+16]\n",
            " [7.20575940e+16 1.44115188e+17 2.88230376e+17 5.76460752e+17\n",
            "  1.15292150e+18 2.30584301e+18 4.61168602e+18 9.22337204e+18]]\n",
            "============================\n",
            "[1.00000000e+00 2.00000000e+00 4.00000000e+00 8.00000000e+00\n",
            " 1.60000000e+01 3.20000000e+01 6.40000000e+01 1.28000000e+02\n",
            " 2.56000000e+02 5.12000000e+02 1.02400000e+03 2.04800000e+03\n",
            " 4.09600000e+03 8.19200000e+03 1.63840000e+04 3.27680000e+04\n",
            " 6.55360000e+04 1.31072000e+05 2.62144000e+05 5.24288000e+05\n",
            " 1.04857600e+06 2.09715200e+06 4.19430400e+06 8.38860800e+06\n",
            " 1.67772160e+07 3.35544320e+07 6.71088640e+07 1.34217728e+08\n",
            " 2.68435456e+08 5.36870912e+08 1.07374182e+09 2.14748365e+09\n",
            " 4.29496730e+09 8.58993459e+09 1.71798692e+10 3.43597384e+10\n",
            " 6.87194767e+10 1.37438953e+11 2.74877907e+11 5.49755814e+11\n",
            " 1.09951163e+12 2.19902326e+12 4.39804651e+12 8.79609302e+12\n",
            " 1.75921860e+13 3.51843721e+13 7.03687442e+13 1.40737488e+14\n",
            " 2.81474977e+14 5.62949953e+14 1.12589991e+15 2.25179981e+15\n",
            " 4.50359963e+15 9.00719925e+15 1.80143985e+16 3.60287970e+16\n",
            " 7.20575940e+16 1.44115188e+17 2.88230376e+17 5.76460752e+17\n",
            " 1.15292150e+18 2.30584301e+18 4.61168602e+18 9.22337204e+18]\n"
          ]
        }
      ]
    },
    {
      "cell_type": "markdown",
      "source": [
        "# Question 7] Comparison of calculation time"
      ],
      "metadata": {
        "id": "Gm8oxw8n6vbB"
      }
    },
    {
      "cell_type": "code",
      "source": [
        "%%timeit\n",
        "a = np.array([1, 2, 3])\n",
        "b = np.array([1, 2, 3])\n",
        "c = a + b\n",
        "\n",
        "  \n"
      ],
      "metadata": {
        "colab": {
          "base_uri": "https://localhost:8080/"
        },
        "outputId": "3cfa24fd-625b-4a36-bf36-2b70ddb246b8",
        "id": "-jYbDII_5QUI"
      },
      "execution_count": 48,
      "outputs": [
        {
          "output_type": "stream",
          "name": "stdout",
          "text": [
            "3.56 µs ± 1.75 µs per loop (mean ± std. dev. of 7 runs, 100000 loops each)\n"
          ]
        }
      ]
    },
    {
      "cell_type": "code",
      "source": [
        "%%timeit\n",
        "NxM_square()"
      ],
      "metadata": {
        "id": "sCsXx41541nj",
        "outputId": "44f78cfa-ba43-480c-d218-b04a9ac82b16",
        "colab": {
          "base_uri": "https://localhost:8080/"
        }
      },
      "execution_count": 50,
      "outputs": [
        {
          "output_type": "stream",
          "name": "stdout",
          "text": [
            "19.6 µs ± 3.35 µs per loop (mean ± std. dev. of 7 runs, 100000 loops each)\n"
          ]
        }
      ]
    },
    {
      "cell_type": "code",
      "source": [
        "%%timeit\n",
        "n_squares = 8\n",
        "board_array = np.array([1]).astype(np.uint64)\n",
        "for _ in range(n_squares * n_squares - 1):\n",
        "  board_array = np.append(board_array, 2*board_array[-1])"
      ],
      "metadata": {
        "id": "jRbgMMA6_7eu",
        "outputId": "6efbcf98-52f6-46a5-eaf5-5c2e4206e864",
        "colab": {
          "base_uri": "https://localhost:8080/"
        }
      },
      "execution_count": 51,
      "outputs": [
        {
          "output_type": "stream",
          "name": "stdout",
          "text": [
            "463 µs ± 138 µs per loop (mean ± std. dev. of 7 runs, 1000 loops each)\n"
          ]
        }
      ]
    },
    {
      "cell_type": "code",
      "source": [],
      "metadata": {
        "id": "FhTpcmF4AK0J"
      },
      "execution_count": null,
      "outputs": []
    }
  ]
}