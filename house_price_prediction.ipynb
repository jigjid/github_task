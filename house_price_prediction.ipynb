{
  "nbformat": 4,
  "nbformat_minor": 0,
  "metadata": {
    "colab": {
      "provenance": [],
      "authorship_tag": "ABX9TyPY+CrOMcLKgpzcv9MFD+EO",
      "include_colab_link": true
    },
    "kernelspec": {
      "name": "python3",
      "display_name": "Python 3"
    },
    "language_info": {
      "name": "python"
    }
  },
  "cells": [
    {
      "cell_type": "markdown",
      "metadata": {
        "id": "view-in-github",
        "colab_type": "text"
      },
      "source": [
        "<a href=\"https://colab.research.google.com/github/jigjid/github_task/blob/main/house_price_prediction.ipynb\" target=\"_parent\"><img src=\"https://colab.research.google.com/assets/colab-badge.svg\" alt=\"Open In Colab\"/></a>"
      ]
    },
    {
      "cell_type": "markdown",
      "source": [
        "[Problem 1] Selection of features for practice"
      ],
      "metadata": {
        "id": "Xb9K-nA5-V5K"
      }
    },
    {
      "cell_type": "code",
      "execution_count": 2,
      "metadata": {
        "colab": {
          "base_uri": "https://localhost:8080/",
          "height": 488
        },
        "id": "H9C1wwKN-DI_",
        "outputId": "4a7b35e2-7a7d-40ca-843a-810bfd215151"
      },
      "outputs": [
        {
          "output_type": "execute_result",
          "data": {
            "text/plain": [
              "        Id  MSSubClass MSZoning  LotFrontage  LotArea Street Alley LotShape  \\\n",
              "0        1          60       RL         65.0     8450   Pave   NaN      Reg   \n",
              "1        2          20       RL         80.0     9600   Pave   NaN      Reg   \n",
              "2        3          60       RL         68.0    11250   Pave   NaN      IR1   \n",
              "3        4          70       RL         60.0     9550   Pave   NaN      IR1   \n",
              "4        5          60       RL         84.0    14260   Pave   NaN      IR1   \n",
              "...    ...         ...      ...          ...      ...    ...   ...      ...   \n",
              "1455  1456          60       RL         62.0     7917   Pave   NaN      Reg   \n",
              "1456  1457          20       RL         85.0    13175   Pave   NaN      Reg   \n",
              "1457  1458          70       RL         66.0     9042   Pave   NaN      Reg   \n",
              "1458  1459          20       RL         68.0     9717   Pave   NaN      Reg   \n",
              "1459  1460          20       RL         75.0     9937   Pave   NaN      Reg   \n",
              "\n",
              "     LandContour Utilities  ... PoolArea PoolQC  Fence MiscFeature MiscVal  \\\n",
              "0            Lvl    AllPub  ...        0    NaN    NaN         NaN       0   \n",
              "1            Lvl    AllPub  ...        0    NaN    NaN         NaN       0   \n",
              "2            Lvl    AllPub  ...        0    NaN    NaN         NaN       0   \n",
              "3            Lvl    AllPub  ...        0    NaN    NaN         NaN       0   \n",
              "4            Lvl    AllPub  ...        0    NaN    NaN         NaN       0   \n",
              "...          ...       ...  ...      ...    ...    ...         ...     ...   \n",
              "1455         Lvl    AllPub  ...        0    NaN    NaN         NaN       0   \n",
              "1456         Lvl    AllPub  ...        0    NaN  MnPrv         NaN       0   \n",
              "1457         Lvl    AllPub  ...        0    NaN  GdPrv        Shed    2500   \n",
              "1458         Lvl    AllPub  ...        0    NaN    NaN         NaN       0   \n",
              "1459         Lvl    AllPub  ...        0    NaN    NaN         NaN       0   \n",
              "\n",
              "     MoSold YrSold  SaleType  SaleCondition  SalePrice  \n",
              "0         2   2008        WD         Normal     208500  \n",
              "1         5   2007        WD         Normal     181500  \n",
              "2         9   2008        WD         Normal     223500  \n",
              "3         2   2006        WD        Abnorml     140000  \n",
              "4        12   2008        WD         Normal     250000  \n",
              "...     ...    ...       ...            ...        ...  \n",
              "1455      8   2007        WD         Normal     175000  \n",
              "1456      2   2010        WD         Normal     210000  \n",
              "1457      5   2010        WD         Normal     266500  \n",
              "1458      4   2010        WD         Normal     142125  \n",
              "1459      6   2008        WD         Normal     147500  \n",
              "\n",
              "[1460 rows x 81 columns]"
            ],
            "text/html": [
              "\n",
              "  <div id=\"df-06769481-63d1-490c-bd88-00ac7a8c3f4c\">\n",
              "    <div class=\"colab-df-container\">\n",
              "      <div>\n",
              "<style scoped>\n",
              "    .dataframe tbody tr th:only-of-type {\n",
              "        vertical-align: middle;\n",
              "    }\n",
              "\n",
              "    .dataframe tbody tr th {\n",
              "        vertical-align: top;\n",
              "    }\n",
              "\n",
              "    .dataframe thead th {\n",
              "        text-align: right;\n",
              "    }\n",
              "</style>\n",
              "<table border=\"1\" class=\"dataframe\">\n",
              "  <thead>\n",
              "    <tr style=\"text-align: right;\">\n",
              "      <th></th>\n",
              "      <th>Id</th>\n",
              "      <th>MSSubClass</th>\n",
              "      <th>MSZoning</th>\n",
              "      <th>LotFrontage</th>\n",
              "      <th>LotArea</th>\n",
              "      <th>Street</th>\n",
              "      <th>Alley</th>\n",
              "      <th>LotShape</th>\n",
              "      <th>LandContour</th>\n",
              "      <th>Utilities</th>\n",
              "      <th>...</th>\n",
              "      <th>PoolArea</th>\n",
              "      <th>PoolQC</th>\n",
              "      <th>Fence</th>\n",
              "      <th>MiscFeature</th>\n",
              "      <th>MiscVal</th>\n",
              "      <th>MoSold</th>\n",
              "      <th>YrSold</th>\n",
              "      <th>SaleType</th>\n",
              "      <th>SaleCondition</th>\n",
              "      <th>SalePrice</th>\n",
              "    </tr>\n",
              "  </thead>\n",
              "  <tbody>\n",
              "    <tr>\n",
              "      <th>0</th>\n",
              "      <td>1</td>\n",
              "      <td>60</td>\n",
              "      <td>RL</td>\n",
              "      <td>65.0</td>\n",
              "      <td>8450</td>\n",
              "      <td>Pave</td>\n",
              "      <td>NaN</td>\n",
              "      <td>Reg</td>\n",
              "      <td>Lvl</td>\n",
              "      <td>AllPub</td>\n",
              "      <td>...</td>\n",
              "      <td>0</td>\n",
              "      <td>NaN</td>\n",
              "      <td>NaN</td>\n",
              "      <td>NaN</td>\n",
              "      <td>0</td>\n",
              "      <td>2</td>\n",
              "      <td>2008</td>\n",
              "      <td>WD</td>\n",
              "      <td>Normal</td>\n",
              "      <td>208500</td>\n",
              "    </tr>\n",
              "    <tr>\n",
              "      <th>1</th>\n",
              "      <td>2</td>\n",
              "      <td>20</td>\n",
              "      <td>RL</td>\n",
              "      <td>80.0</td>\n",
              "      <td>9600</td>\n",
              "      <td>Pave</td>\n",
              "      <td>NaN</td>\n",
              "      <td>Reg</td>\n",
              "      <td>Lvl</td>\n",
              "      <td>AllPub</td>\n",
              "      <td>...</td>\n",
              "      <td>0</td>\n",
              "      <td>NaN</td>\n",
              "      <td>NaN</td>\n",
              "      <td>NaN</td>\n",
              "      <td>0</td>\n",
              "      <td>5</td>\n",
              "      <td>2007</td>\n",
              "      <td>WD</td>\n",
              "      <td>Normal</td>\n",
              "      <td>181500</td>\n",
              "    </tr>\n",
              "    <tr>\n",
              "      <th>2</th>\n",
              "      <td>3</td>\n",
              "      <td>60</td>\n",
              "      <td>RL</td>\n",
              "      <td>68.0</td>\n",
              "      <td>11250</td>\n",
              "      <td>Pave</td>\n",
              "      <td>NaN</td>\n",
              "      <td>IR1</td>\n",
              "      <td>Lvl</td>\n",
              "      <td>AllPub</td>\n",
              "      <td>...</td>\n",
              "      <td>0</td>\n",
              "      <td>NaN</td>\n",
              "      <td>NaN</td>\n",
              "      <td>NaN</td>\n",
              "      <td>0</td>\n",
              "      <td>9</td>\n",
              "      <td>2008</td>\n",
              "      <td>WD</td>\n",
              "      <td>Normal</td>\n",
              "      <td>223500</td>\n",
              "    </tr>\n",
              "    <tr>\n",
              "      <th>3</th>\n",
              "      <td>4</td>\n",
              "      <td>70</td>\n",
              "      <td>RL</td>\n",
              "      <td>60.0</td>\n",
              "      <td>9550</td>\n",
              "      <td>Pave</td>\n",
              "      <td>NaN</td>\n",
              "      <td>IR1</td>\n",
              "      <td>Lvl</td>\n",
              "      <td>AllPub</td>\n",
              "      <td>...</td>\n",
              "      <td>0</td>\n",
              "      <td>NaN</td>\n",
              "      <td>NaN</td>\n",
              "      <td>NaN</td>\n",
              "      <td>0</td>\n",
              "      <td>2</td>\n",
              "      <td>2006</td>\n",
              "      <td>WD</td>\n",
              "      <td>Abnorml</td>\n",
              "      <td>140000</td>\n",
              "    </tr>\n",
              "    <tr>\n",
              "      <th>4</th>\n",
              "      <td>5</td>\n",
              "      <td>60</td>\n",
              "      <td>RL</td>\n",
              "      <td>84.0</td>\n",
              "      <td>14260</td>\n",
              "      <td>Pave</td>\n",
              "      <td>NaN</td>\n",
              "      <td>IR1</td>\n",
              "      <td>Lvl</td>\n",
              "      <td>AllPub</td>\n",
              "      <td>...</td>\n",
              "      <td>0</td>\n",
              "      <td>NaN</td>\n",
              "      <td>NaN</td>\n",
              "      <td>NaN</td>\n",
              "      <td>0</td>\n",
              "      <td>12</td>\n",
              "      <td>2008</td>\n",
              "      <td>WD</td>\n",
              "      <td>Normal</td>\n",
              "      <td>250000</td>\n",
              "    </tr>\n",
              "    <tr>\n",
              "      <th>...</th>\n",
              "      <td>...</td>\n",
              "      <td>...</td>\n",
              "      <td>...</td>\n",
              "      <td>...</td>\n",
              "      <td>...</td>\n",
              "      <td>...</td>\n",
              "      <td>...</td>\n",
              "      <td>...</td>\n",
              "      <td>...</td>\n",
              "      <td>...</td>\n",
              "      <td>...</td>\n",
              "      <td>...</td>\n",
              "      <td>...</td>\n",
              "      <td>...</td>\n",
              "      <td>...</td>\n",
              "      <td>...</td>\n",
              "      <td>...</td>\n",
              "      <td>...</td>\n",
              "      <td>...</td>\n",
              "      <td>...</td>\n",
              "      <td>...</td>\n",
              "    </tr>\n",
              "    <tr>\n",
              "      <th>1455</th>\n",
              "      <td>1456</td>\n",
              "      <td>60</td>\n",
              "      <td>RL</td>\n",
              "      <td>62.0</td>\n",
              "      <td>7917</td>\n",
              "      <td>Pave</td>\n",
              "      <td>NaN</td>\n",
              "      <td>Reg</td>\n",
              "      <td>Lvl</td>\n",
              "      <td>AllPub</td>\n",
              "      <td>...</td>\n",
              "      <td>0</td>\n",
              "      <td>NaN</td>\n",
              "      <td>NaN</td>\n",
              "      <td>NaN</td>\n",
              "      <td>0</td>\n",
              "      <td>8</td>\n",
              "      <td>2007</td>\n",
              "      <td>WD</td>\n",
              "      <td>Normal</td>\n",
              "      <td>175000</td>\n",
              "    </tr>\n",
              "    <tr>\n",
              "      <th>1456</th>\n",
              "      <td>1457</td>\n",
              "      <td>20</td>\n",
              "      <td>RL</td>\n",
              "      <td>85.0</td>\n",
              "      <td>13175</td>\n",
              "      <td>Pave</td>\n",
              "      <td>NaN</td>\n",
              "      <td>Reg</td>\n",
              "      <td>Lvl</td>\n",
              "      <td>AllPub</td>\n",
              "      <td>...</td>\n",
              "      <td>0</td>\n",
              "      <td>NaN</td>\n",
              "      <td>MnPrv</td>\n",
              "      <td>NaN</td>\n",
              "      <td>0</td>\n",
              "      <td>2</td>\n",
              "      <td>2010</td>\n",
              "      <td>WD</td>\n",
              "      <td>Normal</td>\n",
              "      <td>210000</td>\n",
              "    </tr>\n",
              "    <tr>\n",
              "      <th>1457</th>\n",
              "      <td>1458</td>\n",
              "      <td>70</td>\n",
              "      <td>RL</td>\n",
              "      <td>66.0</td>\n",
              "      <td>9042</td>\n",
              "      <td>Pave</td>\n",
              "      <td>NaN</td>\n",
              "      <td>Reg</td>\n",
              "      <td>Lvl</td>\n",
              "      <td>AllPub</td>\n",
              "      <td>...</td>\n",
              "      <td>0</td>\n",
              "      <td>NaN</td>\n",
              "      <td>GdPrv</td>\n",
              "      <td>Shed</td>\n",
              "      <td>2500</td>\n",
              "      <td>5</td>\n",
              "      <td>2010</td>\n",
              "      <td>WD</td>\n",
              "      <td>Normal</td>\n",
              "      <td>266500</td>\n",
              "    </tr>\n",
              "    <tr>\n",
              "      <th>1458</th>\n",
              "      <td>1459</td>\n",
              "      <td>20</td>\n",
              "      <td>RL</td>\n",
              "      <td>68.0</td>\n",
              "      <td>9717</td>\n",
              "      <td>Pave</td>\n",
              "      <td>NaN</td>\n",
              "      <td>Reg</td>\n",
              "      <td>Lvl</td>\n",
              "      <td>AllPub</td>\n",
              "      <td>...</td>\n",
              "      <td>0</td>\n",
              "      <td>NaN</td>\n",
              "      <td>NaN</td>\n",
              "      <td>NaN</td>\n",
              "      <td>0</td>\n",
              "      <td>4</td>\n",
              "      <td>2010</td>\n",
              "      <td>WD</td>\n",
              "      <td>Normal</td>\n",
              "      <td>142125</td>\n",
              "    </tr>\n",
              "    <tr>\n",
              "      <th>1459</th>\n",
              "      <td>1460</td>\n",
              "      <td>20</td>\n",
              "      <td>RL</td>\n",
              "      <td>75.0</td>\n",
              "      <td>9937</td>\n",
              "      <td>Pave</td>\n",
              "      <td>NaN</td>\n",
              "      <td>Reg</td>\n",
              "      <td>Lvl</td>\n",
              "      <td>AllPub</td>\n",
              "      <td>...</td>\n",
              "      <td>0</td>\n",
              "      <td>NaN</td>\n",
              "      <td>NaN</td>\n",
              "      <td>NaN</td>\n",
              "      <td>0</td>\n",
              "      <td>6</td>\n",
              "      <td>2008</td>\n",
              "      <td>WD</td>\n",
              "      <td>Normal</td>\n",
              "      <td>147500</td>\n",
              "    </tr>\n",
              "  </tbody>\n",
              "</table>\n",
              "<p>1460 rows × 81 columns</p>\n",
              "</div>\n",
              "      <button class=\"colab-df-convert\" onclick=\"convertToInteractive('df-06769481-63d1-490c-bd88-00ac7a8c3f4c')\"\n",
              "              title=\"Convert this dataframe to an interactive table.\"\n",
              "              style=\"display:none;\">\n",
              "        \n",
              "  <svg xmlns=\"http://www.w3.org/2000/svg\" height=\"24px\"viewBox=\"0 0 24 24\"\n",
              "       width=\"24px\">\n",
              "    <path d=\"M0 0h24v24H0V0z\" fill=\"none\"/>\n",
              "    <path d=\"M18.56 5.44l.94 2.06.94-2.06 2.06-.94-2.06-.94-.94-2.06-.94 2.06-2.06.94zm-11 1L8.5 8.5l.94-2.06 2.06-.94-2.06-.94L8.5 2.5l-.94 2.06-2.06.94zm10 10l.94 2.06.94-2.06 2.06-.94-2.06-.94-.94-2.06-.94 2.06-2.06.94z\"/><path d=\"M17.41 7.96l-1.37-1.37c-.4-.4-.92-.59-1.43-.59-.52 0-1.04.2-1.43.59L10.3 9.45l-7.72 7.72c-.78.78-.78 2.05 0 2.83L4 21.41c.39.39.9.59 1.41.59.51 0 1.02-.2 1.41-.59l7.78-7.78 2.81-2.81c.8-.78.8-2.07 0-2.86zM5.41 20L4 18.59l7.72-7.72 1.47 1.35L5.41 20z\"/>\n",
              "  </svg>\n",
              "      </button>\n",
              "      \n",
              "  <style>\n",
              "    .colab-df-container {\n",
              "      display:flex;\n",
              "      flex-wrap:wrap;\n",
              "      gap: 12px;\n",
              "    }\n",
              "\n",
              "    .colab-df-convert {\n",
              "      background-color: #E8F0FE;\n",
              "      border: none;\n",
              "      border-radius: 50%;\n",
              "      cursor: pointer;\n",
              "      display: none;\n",
              "      fill: #1967D2;\n",
              "      height: 32px;\n",
              "      padding: 0 0 0 0;\n",
              "      width: 32px;\n",
              "    }\n",
              "\n",
              "    .colab-df-convert:hover {\n",
              "      background-color: #E2EBFA;\n",
              "      box-shadow: 0px 1px 2px rgba(60, 64, 67, 0.3), 0px 1px 3px 1px rgba(60, 64, 67, 0.15);\n",
              "      fill: #174EA6;\n",
              "    }\n",
              "\n",
              "    [theme=dark] .colab-df-convert {\n",
              "      background-color: #3B4455;\n",
              "      fill: #D2E3FC;\n",
              "    }\n",
              "\n",
              "    [theme=dark] .colab-df-convert:hover {\n",
              "      background-color: #434B5C;\n",
              "      box-shadow: 0px 1px 3px 1px rgba(0, 0, 0, 0.15);\n",
              "      filter: drop-shadow(0px 1px 2px rgba(0, 0, 0, 0.3));\n",
              "      fill: #FFFFFF;\n",
              "    }\n",
              "  </style>\n",
              "\n",
              "      <script>\n",
              "        const buttonEl =\n",
              "          document.querySelector('#df-06769481-63d1-490c-bd88-00ac7a8c3f4c button.colab-df-convert');\n",
              "        buttonEl.style.display =\n",
              "          google.colab.kernel.accessAllowed ? 'block' : 'none';\n",
              "\n",
              "        async function convertToInteractive(key) {\n",
              "          const element = document.querySelector('#df-06769481-63d1-490c-bd88-00ac7a8c3f4c');\n",
              "          const dataTable =\n",
              "            await google.colab.kernel.invokeFunction('convertToInteractive',\n",
              "                                                     [key], {});\n",
              "          if (!dataTable) return;\n",
              "\n",
              "          const docLinkHtml = 'Like what you see? Visit the ' +\n",
              "            '<a target=\"_blank\" href=https://colab.research.google.com/notebooks/data_table.ipynb>data table notebook</a>'\n",
              "            + ' to learn more about interactive tables.';\n",
              "          element.innerHTML = '';\n",
              "          dataTable['output_type'] = 'display_data';\n",
              "          await google.colab.output.renderOutput(dataTable, element);\n",
              "          const docLink = document.createElement('div');\n",
              "          docLink.innerHTML = docLinkHtml;\n",
              "          element.appendChild(docLink);\n",
              "        }\n",
              "      </script>\n",
              "    </div>\n",
              "  </div>\n",
              "  "
            ]
          },
          "metadata": {},
          "execution_count": 2
        }
      ],
      "source": [
        "import numpy as np\n",
        "import pandas as pd\n",
        "df = pd.read_csv(\"train.csv\", encoding=\"shift-jis\")\n",
        "df"
      ]
    },
    {
      "cell_type": "code",
      "source": [
        "\n",
        "data1 = df[[\"GrLivArea\", \"YearBuilt\"]]\n",
        "target1 = df[\"SalePrice\"]\n",
        "print(data1)\n",
        "print(target1)"
      ],
      "metadata": {
        "colab": {
          "base_uri": "https://localhost:8080/"
        },
        "id": "uR9bO4uF-d1_",
        "outputId": "c1dad10d-2b93-4c6c-be74-aeec51c79a45"
      },
      "execution_count": 3,
      "outputs": [
        {
          "output_type": "stream",
          "name": "stdout",
          "text": [
            "      GrLivArea  YearBuilt\n",
            "0          1710       2003\n",
            "1          1262       1976\n",
            "2          1786       2001\n",
            "3          1717       1915\n",
            "4          2198       2000\n",
            "...         ...        ...\n",
            "1455       1647       1999\n",
            "1456       2073       1978\n",
            "1457       2340       1941\n",
            "1458       1078       1950\n",
            "1459       1256       1965\n",
            "\n",
            "[1460 rows x 2 columns]\n",
            "0       208500\n",
            "1       181500\n",
            "2       223500\n",
            "3       140000\n",
            "4       250000\n",
            "         ...  \n",
            "1455    175000\n",
            "1456    210000\n",
            "1457    266500\n",
            "1458    142125\n",
            "1459    147500\n",
            "Name: SalePrice, Length: 1460, dtype: int64\n"
          ]
        }
      ]
    },
    {
      "cell_type": "code",
      "source": [
        "import numpy as np\n",
        "data = data1.to_numpy()\n",
        "target = target1.to_numpy()\n",
        "print(type(data))\n",
        "print(type(target))"
      ],
      "metadata": {
        "colab": {
          "base_uri": "https://localhost:8080/"
        },
        "id": "NaMAOUmD-6V0",
        "outputId": "a93c037d-aa6c-4ad8-e71c-7ce91aab0faf"
      },
      "execution_count": 4,
      "outputs": [
        {
          "output_type": "stream",
          "name": "stdout",
          "text": [
            "<class 'numpy.ndarray'>\n",
            "<class 'numpy.ndarray'>\n"
          ]
        }
      ]
    },
    {
      "cell_type": "markdown",
      "source": [
        "[Problem 2] Estimation and evaluation by linear regression"
      ],
      "metadata": {
        "id": "Ije8WKBH_Au8"
      }
    },
    {
      "cell_type": "code",
      "source": [
        "\n",
        "from sklearn.model_selection import train_test_split\n",
        "from sklearn.linear_model import LinearRegression\n",
        "data_train, data_test, target_train, target_test = train_test_split(data, target, random_state=123, test_size=0.2)\n",
        "from sklearn.preprocessing import StandardScaler\n",
        "scaler = StandardScaler()\n",
        "data_train = scaler.fit_transform(data_train)\n",
        "data_test = scaler.fit_transform(data_test)\n",
        "lr = LinearRegression()\n",
        "lr.fit(data_train, target_train)\n",
        "target_pred = lr.predict(data_test)\n",
        "target_pred\n",
        "     "
      ],
      "metadata": {
        "colab": {
          "base_uri": "https://localhost:8080/"
        },
        "id": "TamPm3v9-9Rm",
        "outputId": "208b9283-115d-4892-82bb-1a34b5e82373"
      },
      "execution_count": 5,
      "outputs": [
        {
          "output_type": "execute_result",
          "data": {
            "text/plain": [
              "array([268241.4641768 , 128537.62048776, 237761.76924221, 271307.56577637,\n",
              "       156407.62721576, 219348.11032283, 314726.72562432, 130091.40714487,\n",
              "       132011.06134125, 180282.27106066, 176313.94116294, 245784.82723771,\n",
              "       173085.02682668, 118969.91532051, 277704.26281959, 174143.00220299,\n",
              "       195180.17323384, 287971.14148241, 247316.26532895, 183092.09606495,\n",
              "       131051.23424306, 201965.39379438, 108401.21875262, 120648.57582893,\n",
              "       248069.1973831 , 163396.51740326, 207709.38088838, 228768.5930729 ,\n",
              "        99121.50758557, 145379.59925   , 145703.45830875, 212144.1078425 ,\n",
              "       129202.69533941, 193479.47157174, 241604.61046424, 216244.68466226,\n",
              "       168406.08076752, 309333.32316226, 156017.644696  ,  82269.5451599 ,\n",
              "       129087.49773933, 225281.94313891, 183283.70820166, 182113.76064235,\n",
              "       196667.52901774, 105993.12634616, 242971.46940416, 241292.50148355,\n",
              "       248498.27037851,  94416.98754346, 227881.64768208, 197291.74697912,\n",
              "       135070.40469447, 152700.56574504, 112786.56415549, 163635.4372644 ,\n",
              "       108550.51499662, 156165.17452536, 211993.04518387, 261059.50285015,\n",
              "       116181.82405771, 305087.29033996, 151592.9014053 , 155235.91324182,\n",
              "       269091.08550663, 126227.98377161,  97174.51299161, 217855.76270722,\n",
              "       217338.52509713, 146929.54566565, 134805.9108504 , 263759.12208607,\n",
              "       192614.56733459, 232338.41578988, 167681.6407012 , 123017.88517195,\n",
              "       214943.94918336, 141529.99978163, 247292.45776065, 133722.36149115,\n",
              "       279332.39018651, 228473.53341417,  60582.88959691, 121228.71148297,\n",
              "       180882.37404155, 143139.31141195,  62297.41516389, 113117.48887278,\n",
              "        62461.99431522, 212937.58937473, 121026.80827064, 219192.05583249,\n",
              "       212474.7251476 , 143539.27759514, 159796.12887164, 128653.12550003,\n",
              "       238241.37537911, 106688.45960028, 256027.89833222, 114743.84982506,\n",
              "        98112.29893613, 357465.83512548, 331854.93197212, 138818.32305546,\n",
              "       238714.83809405, 154743.94220248, 104337.96599386, 191296.78253373,\n",
              "       219332.82741551, 243799.04958031, 287993.18263608, 226007.53479549,\n",
              "       117545.15016837, 264222.29372539, 203084.80821218, 116863.64081913,\n",
              "       180650.21242676, 335955.50879188,  62600.9994836 , 186326.30964511,\n",
              "       178221.53786907, 186566.99592088, 203291.70325622,  95773.86281996,\n",
              "       222517.65944442, 233579.7860541 ,  51796.60847165,  91347.66052682,\n",
              "       193272.57652771, 300213.50672701,  87345.23198517, 249341.13346199,\n",
              "       304919.48577156, 209571.43628472, 190677.55640406, 157170.85034553,\n",
              "       291466.31607738,  67551.19763319, 228163.19084812, 121805.31430774,\n",
              "        91269.47957555, 254984.89845105, 249715.83307443, 120079.0386627 ,\n",
              "       174933.25831814, 231534.33576984, 217138.38829943, 170690.14350073,\n",
              "       189287.19730803,  88062.60639296, 201731.46576495, 106388.10069764,\n",
              "       358876.77637274, 205699.79566268, 217913.36150726, 146887.22977294,\n",
              "       242689.92623812, 127171.06896003, 115296.64508152, 130727.37518431,\n",
              "       426234.62969978, 212774.77663804, 268797.48485034, 167396.87211808,\n",
              "       229943.83987611, 153407.64907721, 117335.02970725, 144399.19000058,\n",
              "       199235.20874381, 111151.98595442, 114277.45276866, 157347.17957492,\n",
              "       240747.92347587, 226730.20844718, 128953.48440266, 267096.78318825,\n",
              "       180428.03447539, 103347.57308102, 197890.39095756, 229153.58376096,\n",
              "       228163.19084812, 173085.02682668, 107434.63340808, 118673.08924715,\n",
              "       158612.35740745, 122310.80183977, 130065.83316193, 203705.4933443 ,\n",
              "       148415.13503492, 228163.19084812, 115244.0381132 , 119980.5829724 ,\n",
              "       229611.45615638, 241567.28640324, 113519.22147061, 311718.22282479,\n",
              "       111898.15976222, 130294.76935964, 133055.52022486,  72828.78767079,\n",
              "       231266.61650869, 255464.81200014, 205330.08788195, 330694.96807624,\n",
              "       225602.26936839, 117550.44941227,  71838.39475794, 334419.07886892,\n",
              "       147426.50853671, 230018.48799811, 142676.13977263, 265899.49523137,\n",
              "       122907.67940358, 195256.58777047, 138197.63792335, 179444.3998089 ,\n",
              "       238411.25377434, 146800.52416069, 125746.61122007, 102099.44457044,\n",
              "       230727.33774492,  85181.35868376, 197790.16885262, 189690.69632049,\n",
              "       151364.27261978, 103737.24818859, 204073.43471039,  51309.93667621,\n",
              "       158286.73193407, 191968.30821954,  94824.01938519, 148796.9003059 ,\n",
              "       191722.32269987, 103021.94760763, 122524.45513016, 203512.11479295,\n",
              "       194854.54776045, 110514.25150034, 223567.41757194, 114926.93730079,\n",
              "       259153.36514646, 268943.55567726, 208492.87875719, 293357.17087374,\n",
              "       116863.64081913, 291827.49919713, 163960.75532559, 233564.50314678,\n",
              "       129774.30633247, 247078.80447026, 229360.478805  , 123592.72158208,\n",
              "       229781.02713942,  77917.99098876, 212808.87528196, 244618.10509548,\n",
              "       243429.34179958, 193046.86574707, 162116.0566634 , 120962.45122426,\n",
              "       243103.71632619, 217981.25138291, 168226.21870887, 230420.22059594,\n",
              "       225872.06245637, 197174.47555222, 222895.58447394, 236661.170561  ,\n",
              "        56317.73362583,  78725.29642587, 114160.18134176,  86358.3719016 ,\n",
              "       225229.33617059,  98751.79980484, 263889.91000566, 186719.51758196,\n",
              "       192348.30707588, 284570.88974847, 124966.33876835, 102453.86944385,\n",
              "       130871.37218441, 128553.21080728, 109228.79892877, 121710.3914467 ,\n",
              "       213022.52857235, 133116.65185417, 231436.18749172, 126065.17103492,\n",
              "       186693.94359901,  95285.42460988, 237188.39183452, 105703.05851914])"
            ]
          },
          "metadata": {},
          "execution_count": 5
        }
      ]
    },
    {
      "cell_type": "code",
      "source": [
        "\n",
        "from sklearn.metrics import mean_squared_error\n",
        "mean_squared_error(target_test, target_pred,  squared=False)"
      ],
      "metadata": {
        "colab": {
          "base_uri": "https://localhost:8080/"
        },
        "id": "QoEHe7ZW_Dxq",
        "outputId": "f0836ed6-faa0-48e3-a03d-8b98fd083efb"
      },
      "execution_count": 6,
      "outputs": [
        {
          "output_type": "execute_result",
          "data": {
            "text/plain": [
              "42960.86386123902"
            ]
          },
          "metadata": {},
          "execution_count": 6
        }
      ]
    },
    {
      "cell_type": "code",
      "source": [
        "import matplotlib.pyplot as plt\n",
        "fig, ax = plt.subplots()\n",
        "ax.scatter(target_test, target_pred)\n",
        "ax.plot((0,500000), (0,400000), linestyle='dashed', color=\"red\")\n",
        "ax.set_xlabel(\"Actual value\")\n",
        "ax.set_ylabel(\"Predicted value\")\n",
        "plt.show()"
      ],
      "metadata": {
        "colab": {
          "base_uri": "https://localhost:8080/",
          "height": 449
        },
        "id": "li68bnRF_Hnu",
        "outputId": "495f4c0d-d264-42d5-c3a2-103b3967a64b"
      },
      "execution_count": 7,
      "outputs": [
        {
          "output_type": "display_data",
          "data": {
            "text/plain": [
              "<Figure size 640x480 with 1 Axes>"
            ],
            "image/png": "[encoded data removed]"
          },
          "metadata": {}
        }
      ]
    },
    {
      "cell_type": "markdown",
      "source": [
        "[Problem 3] Comparison of methods"
      ],
      "metadata": {
        "id": "c5N2GEUD_Omn"
      }
    },
    {
      "cell_type": "code",
      "source": [
        "X = data_train\n",
        "y = target_train\n",
        "from sklearn.svm import SVR\n",
        "from sklearn.pipeline import make_pipeline\n",
        "regr = make_pipeline(StandardScaler(), SVR(C=1.0, epsilon=0.2))\n",
        "regr.fit(X, y)\n",
        "svm_pred = regr.predict(data_test)\n",
        "mean_squared_error(target_test, svm_pred,  squared=False)"
      ],
      "metadata": {
        "colab": {
          "base_uri": "https://localhost:8080/"
        },
        "id": "n70z-10L_JGM",
        "outputId": "00e8dabf-a8d2-46ec-ad19-f2bf4aef84cd"
      },
      "execution_count": 8,
      "outputs": [
        {
          "output_type": "execute_result",
          "data": {
            "text/plain": [
              "80963.73159674357"
            ]
          },
          "metadata": {},
          "execution_count": 8
        }
      ]
    },
    {
      "cell_type": "code",
      "source": [
        "\n",
        "from sklearn.model_selection import cross_val_score\n",
        "from sklearn.tree import DecisionTreeRegressor\n",
        "regressor = DecisionTreeRegressor(random_state=0)\n",
        "cross_val_score(regressor, X, y, cv=10)\n",
        "regressor.fit(X, y)\n",
        "dt_pred = regressor.predict(data_test)\n",
        "mean_squared_error(target_test, dt_pred,  squared=False)"
      ],
      "metadata": {
        "colab": {
          "base_uri": "https://localhost:8080/"
        },
        "id": "bie6Kxc4_RV7",
        "outputId": "18aec782-4b65-4786-ba30-1c7ba0e29334"
      },
      "execution_count": 9,
      "outputs": [
        {
          "output_type": "execute_result",
          "data": {
            "text/plain": [
              "54738.61698525918"
            ]
          },
          "metadata": {},
          "execution_count": 9
        }
      ]
    },
    {
      "cell_type": "code",
      "source": [
        "from sklearn.ensemble import RandomForestRegressor\n",
        "reg = RandomForestRegressor(max_depth=2, random_state=0)\n",
        "reg.fit(X, y)\n",
        "rf_pred = reg.predict(data_test)\n",
        "mean_squared_error(target_test, rf_pred,  squared=False)"
      ],
      "metadata": {
        "colab": {
          "base_uri": "https://localhost:8080/"
        },
        "id": "aUPkp2pt_VWv",
        "outputId": "c709574e-eb33-493e-f79e-b684625905f7"
      },
      "execution_count": 10,
      "outputs": [
        {
          "output_type": "execute_result",
          "data": {
            "text/plain": [
              "51437.95186927183"
            ]
          },
          "metadata": {},
          "execution_count": 10
        }
      ]
    },
    {
      "cell_type": "code",
      "source": [
        "import matplotlib.pyplot as plt\n",
        "fig, ((ax1, ax2), (ax3, ax4)) = plt.subplots(2, 2)\n",
        "ax1.scatter(target_test, target_pred)\n",
        "ax1.plot((0,500000), (0,400000), linestyle='dashed', color=\"red\")\n",
        "ax1.set_xlabel(\"Actual value\")\n",
        "ax1.set_ylabel(\"Predicted value\")\n",
        "ax2.scatter(target_test, svm_pred)\n",
        "ax2.plot((0,500000), (0,400000), linestyle='dashed', color=\"red\")\n",
        "ax2.set_xlabel(\"Actual value\")\n",
        "ax2.set_ylabel(\"Predicted value\")\n",
        "ax3.scatter(target_test, dt_pred)\n",
        "ax3.plot((0,500000), (0,400000), linestyle='dashed', color=\"red\")\n",
        "ax3.set_xlabel(\"Actual value\")\n",
        "ax3.set_ylabel(\"Predicted value\")\n",
        "ax4.scatter(target_test, rf_pred)\n",
        "ax4.plot((0,500000), (0,400000), linestyle='dashed', color=\"red\")\n",
        "ax4.set_xlabel(\"Actual value\")\n",
        "ax4.set_ylabel(\"Predicted value\")\n",
        "plt.show()"
      ],
      "metadata": {
        "colab": {
          "base_uri": "https://localhost:8080/",
          "height": 449
        },
        "id": "T7LXD3jC_W1E",
        "outputId": "8470da66-eba9-40e4-b326-1dca6351a60e"
      },
      "execution_count": 11,
      "outputs": [
        {
          "output_type": "display_data",
          "data": {
            "text/plain": [
              "<Figure size 640x480 with 4 Axes>"
            ],
            "image/png": "[encoded data removed]"
          },
          "metadata": {}
        }
      ]
    },
    {
      "cell_type": "markdown",
      "source": [
        "[Problem 4] (Advanced task) Learning using other feature values"
      ],
      "metadata": {
        "id": "KQFNj988_ivn"
      }
    },
    {
      "cell_type": "code",
      "source": [
        "data = df.loc[:,['GrLivArea', 'YearBuilt' , 'LotArea','SalePrice']]\n",
        "\n",
        "print(\"Null values of the data is \\n{}\".format(data.isnull().sum()))\n",
        "\n",
        "\n",
        "X = data.loc[:,['GrLivArea', 'YearBuilt', 'LotArea']].to_numpy()\n",
        "y = data.loc[:, 'SalePrice'].to_numpy()\n",
        "\n",
        "# Estimation and evaluation by linear regression\n",
        "X_train, X_test, y_train, y_test = train_test_split(X, y, random_state=123, test_size=0.2)\n",
        "\n",
        "scaler = StandardScaler()\n",
        "X_train = scaler.fit_transform(X_train)\n",
        "X_test = scaler.fit_transform(X_test)\n",
        "\n",
        "reg = LinearRegression().fit(X_train, y_train)\n",
        "y_pred = reg.predict(X_test)\n",
        "mse = mean_squared_error(y_test, y_pred)\n",
        "print(\"Feature added: root mean square error:{}\".format(mse))\n",
        "mse = mean_squared_error(y_test, y_pred, squared= False)\n",
        "print(\"Feature added: root mean square error:{}\".format(mse))\n",
        "\n",
        "fig, ax = plt.subplots()\n",
        "ax.scatter(y_pred, y_test)\n",
        "ax.plot((0, 400000), (0, 500000), linestyle='dashed', color='red')\n",
        "ax.set_xlabel('predicted value')\n",
        "ax.set_ylabel('actual value')\n",
        "plt.show()"
      ],
      "metadata": {
        "colab": {
          "base_uri": "https://localhost:8080/",
          "height": 588
        },
        "id": "IijgTsIw_ZIQ",
        "outputId": "0e235125-8fbc-4622-ea67-024c3a2ac395"
      },
      "execution_count": 14,
      "outputs": [
        {
          "output_type": "stream",
          "name": "stdout",
          "text": [
            "Null values of the data is \n",
            "GrLivArea    0\n",
            "YearBuilt    0\n",
            "LotArea      0\n",
            "SalePrice    0\n",
            "dtype: int64\n",
            "Feature added: root mean square error:1788152399.389184\n",
            "Feature added: root mean square error:42286.55104627456\n"
          ]
        },
        {
          "output_type": "display_data",
          "data": {
            "text/plain": [
              "<Figure size 640x480 with 1 Axes>"
            ],
            "image/png": "[encoded data removed]"
          },
          "metadata": {}
        }
      ]
    },
    {
      "cell_type": "code",
      "source": [],
      "metadata": {
        "id": "dqwlk7i1_-t5"
      },
      "execution_count": null,
      "outputs": []
    }
  ]
}