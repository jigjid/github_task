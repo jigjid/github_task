{
  "nbformat": 4,
  "nbformat_minor": 0,
  "metadata": {
    "colab": {
      "provenance": [],
      "authorship_tag": "ABX9TyO1yg3vSKLGAzv4Kuzl0Dlp",
      "include_colab_link": true
    },
    "kernelspec": {
      "name": "python3",
      "display_name": "Python 3"
    },
    "language_info": {
      "name": "python"
    }
  },
  "cells": [
    {
      "cell_type": "markdown",
      "metadata": {
        "id": "view-in-github",
        "colab_type": "text"
      },
      "source": [
        "<a href=\"https://colab.research.google.com/github/jigjid/github_task/blob/main/paper%20folding%20problem%20.ipynb\" target=\"_parent\"><img src=\"https://colab.research.google.com/assets/colab-badge.svg\" alt=\"Open In Colab\"/></a>"
      ]
    },
    {
      "cell_type": "markdown",
      "source": [
        "[Problem 1] Implementation using exponentiation arithmetic operators"
      ],
      "metadata": {
        "id": "X95tqrB_AuS8"
      }
    },
    {
      "cell_type": "code",
      "source": [
        "THICKNESS = 0.00008\n",
        "\n",
        "folded_thickness = THICKNESS * 2**43\n",
        "print(\"Thickness: {} meters\".format(folded_thickness))\n"
      ],
      "metadata": {
        "colab": {
          "base_uri": "https://localhost:8080/"
        },
        "id": "fOdbHq9aAx3Z",
        "outputId": "347f4efa-7f19-4886-cecd-ec97de940100"
      },
      "execution_count": 2,
      "outputs": [
        {
          "output_type": "stream",
          "name": "stdout",
          "text": [
            "Thickness: 703687441.77664 meters\n"
          ]
        }
      ]
    },
    {
      "cell_type": "markdown",
      "source": [
        "[Problem 2] Unit Conversion"
      ],
      "metadata": {
        "id": "5cDuKJ8TBQfO"
      }
    },
    {
      "cell_type": "code",
      "source": [
        "print(\"Thickness: {: .2f} kilometers\".format(folded_thickness / 10000))\n"
      ],
      "metadata": {
        "colab": {
          "base_uri": "https://localhost:8080/"
        },
        "id": "qDOewze-BSyy",
        "outputId": "c45a4eae-78cc-40f1-d22f-9a245a553e35"
      },
      "execution_count": null,
      "outputs": [
        {
          "output_type": "stream",
          "name": "stdout",
          "text": [
            "Thickness:  70368.74 kilometers\n"
          ]
        }
      ]
    },
    {
      "cell_type": "markdown",
      "source": [
        "[Problem 3] Create using a for statement"
      ],
      "metadata": {
        "id": "P3hXOotgnsA1"
      }
    },
    {
      "cell_type": "code",
      "source": [
        "THICKNESS = 0.00008\n",
        "for i in range (43):\n",
        "  THICKNESS = THICKNESS * 2\n",
        "print(\"THICNESS: {} meters\".format(folded_thickness))\n",
        "print(\"Thickness: {: .2f} kilometers\".format(folded_thickness / 10000))\n"
      ],
      "metadata": {
        "colab": {
          "base_uri": "https://localhost:8080/"
        },
        "id": "BxNV4tFUrqmH",
        "outputId": "ae916b5c-752b-447a-c2bf-d3f983cdb65b"
      },
      "execution_count": 30,
      "outputs": [
        {
          "output_type": "stream",
          "name": "stdout",
          "text": [
            "THICNESS: 703687441.77664 meters\n",
            "Thickness:  70368.74 kilometers\n"
          ]
        }
      ]
    },
    {
      "cell_type": "markdown",
      "source": [
        "[Problem 4] Comparison of calculation time"
      ],
      "metadata": {
        "id": "ac67CnIkvAj8"
      }
    },
    {
      "cell_type": "code",
      "source": [
        "import time\n",
        "start = time.time()\n",
        "THICKNESS = 0.00008\n",
        "for i in range (43):\n",
        "  THICKNESS = THICKNESS * 2\n",
        "elapsed_time = time.time() - start\n",
        "print(\"time : {}[s]\".format(elapsed_time))"
      ],
      "metadata": {
        "colab": {
          "base_uri": "https://localhost:8080/"
        },
        "id": "_u8j7WHLvF8T",
        "outputId": "3597b9e4-337e-482c-f31a-3651e715f25e"
      },
      "execution_count": 31,
      "outputs": [
        {
          "output_type": "stream",
          "name": "stdout",
          "text": [
            "time : 0.00018715858459472656[s]\n"
          ]
        }
      ]
    },
    {
      "cell_type": "markdown",
      "source": [
        "[Problem 5] Saving to a list"
      ],
      "metadata": {
        "id": "eAWINzkRwdtT"
      }
    },
    {
      "cell_type": "code",
      "source": [
        "x = []\n",
        "for i in range(44):\n",
        "  x.append(THICKNESS*2**i)\n"
      ],
      "metadata": {
        "id": "sjiLtbWRwf2B"
      },
      "execution_count": 36,
      "outputs": []
    },
    {
      "cell_type": "markdown",
      "source": [
        "[Problem 6] Displaying a line graph"
      ],
      "metadata": {
        "id": "0Jq8Gd4Xxd15"
      }
    },
    {
      "cell_type": "code",
      "source": [
        "import matplotlib.pyplot as plt\n",
        "%matplotlib inline\n",
        "\n",
        "# Display the graph. Title and axis label name.\n",
        "plt.title(\"thickness of folded paper\")\n",
        "plt.xlabel(\"number of folds\")\n",
        "plt.ylabel(\"thickness [m]\")\n",
        "plt.plot(x)  # Enter the variable name of the list in \"List name\"\n",
        "plt.show()"
      ],
      "metadata": {
        "colab": {
          "base_uri": "https://localhost:8080/",
          "height": 295
        },
        "id": "wfWogVMaxHpz",
        "outputId": "43e2f6ef-b312-41c0-e7c5-339cbc108fdf"
      },
      "execution_count": 37,
      "outputs": [
        {
          "output_type": "display_data",
          "data": {
            "text/plain": [
              "<Figure size 432x288 with 1 Axes>"
            ],
            "image/png": "[encoded data removed]"
          },
          "metadata": {
            "needs_background": "light"
          }
        }
      ]
    },
    {
      "cell_type": "markdown",
      "source": [
        "[Problem 7] Customizing graph"
      ],
      "metadata": {
        "id": "vIWzoLcFxyBh"
      }
    },
    {
      "cell_type": "code",
      "source": [
        "# Display a red line graph.\n",
        "plt.title(\"thickness of folded paper\")\n",
        "plt.xlabel(\"number of folds\")\n",
        "plt.ylabel(\"thickness [m]\")\n",
        "plt.plot(x, color='red')\n",
        "plt.show()"
      ],
      "metadata": {
        "colab": {
          "base_uri": "https://localhost:8080/",
          "height": 295
        },
        "id": "qPmFHpgXx1BI",
        "outputId": "23ed0fc7-64bc-482c-f3f0-f9f762c58498"
      },
      "execution_count": 39,
      "outputs": [
        {
          "output_type": "display_data",
          "data": {
            "text/plain": [
              "<Figure size 432x288 with 1 Axes>"
            ],
            "image/png": "[encoded data removed]"
          },
          "metadata": {
            "needs_background": "light"
          }
        }
      ]
    },
    {
      "cell_type": "code",
      "source": [
        "plt.title(\"thickness of folded paper\")\n",
        "plt.xlabel(\"number of folds\")\n",
        "plt.ylabel(\"thickness [m]\")\n",
        "plt.plot(x, color='green')\n",
        "plt.show()"
      ],
      "metadata": {
        "colab": {
          "base_uri": "https://localhost:8080/",
          "height": 295
        },
        "id": "Sf27TdqCyUPy",
        "outputId": "4914627f-f472-4f0a-fb3b-7a1b5cbc1f3c"
      },
      "execution_count": 42,
      "outputs": [
        {
          "output_type": "display_data",
          "data": {
            "text/plain": [
              "<Figure size 432x288 with 1 Axes>"
            ],
            "image/png": "[encoded data removed]"
          },
          "metadata": {
            "needs_background": "light"
          }
        }
      ]
    },
    {
      "cell_type": "code",
      "source": [
        "# Display the axis value in large size.\n",
        "plt.title(\"thickness of folded paper\")\n",
        "plt.xlabel(\"number of folds\")\n",
        "plt.ylabel(\"thickness[m]\")# Make settings related to axis values\n",
        "plt.tick_params(labelsize=20)\n",
        "plt.plot(x,linewidth=10, color='green',)\n",
        "plt.show()"
      ],
      "metadata": {
        "colab": {
          "base_uri": "https://localhost:8080/",
          "height": 304
        },
        "id": "dVavZqf2yJqz",
        "outputId": "dc7a207e-2f9a-4f11-8833-a1030e883ac6"
      },
      "execution_count": 58,
      "outputs": [
        {
          "output_type": "display_data",
          "data": {
            "text/plain": [
              "<Figure size 432x288 with 1 Axes>"
            ],
            "image/png": "[encoded data removed]"
          },
          "metadata": {
            "needs_background": "light"
          }
        }
      ]
    },
    {
      "cell_type": "code",
      "source": [
        "plt.title(\"thickness of folded paper\")\n",
        "plt.xlabel(\"number of folds\")\n",
        "plt.ylabel(\"thickness[m]\")# Make settings related to axis values\n",
        "plt.tick_params(labelsize=20)\n",
        "plt.plot(x,linewidth=10, color='green',linestyle='--',dashes=(1, 3))\n",
        "plt.show()"
      ],
      "metadata": {
        "colab": {
          "base_uri": "https://localhost:8080/",
          "height": 304
        },
        "id": "MpvDVVE51tc_",
        "outputId": "7c9ea7f9-d797-4644-9b0a-56326c8161f0"
      },
      "execution_count": 64,
      "outputs": [
        {
          "output_type": "display_data",
          "data": {
            "text/plain": [
              "<Figure size 432x288 with 1 Axes>"
            ],
            "image/png": "[encoded data removed]"
          },
          "metadata": {
            "needs_background": "light"
          }
        }
      ]
    },
    {
      "cell_type": "code",
      "source": [],
      "metadata": {
        "id": "7mY8bwopyOeP"
      },
      "execution_count": null,
      "outputs": []
    }
  ]
}